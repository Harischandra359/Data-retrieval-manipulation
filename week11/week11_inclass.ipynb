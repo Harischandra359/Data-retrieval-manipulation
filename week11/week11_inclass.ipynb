{
  "cells": [
    {
      "cell_type": "markdown",
      "metadata": {
        "id": "view-in-github",
        "colab_type": "text"
      },
      "source": [
        "<a href=\"https://colab.research.google.com/github/Harischandra359/hds5210-2023/blob/main/week11/week11_inclass.ipynb\" target=\"_parent\"><img src=\"https://colab.research.google.com/assets/colab-badge.svg\" alt=\"Open In Colab\"/></a>"
      ]
    },
    {
      "cell_type": "markdown",
      "metadata": {
        "id": "w5DhD5GPBaGw"
      },
      "source": [
        "# Week 11 In-Class Challenge\n",
        "\n",
        "This week, we are doing an in-class exercise.  This will be worth 5 extra credit points for each team that creates a successful solution that follows the programming guidelines we've established this semester.  All the requirements for this programming challenge are described below.  If you complete them all successfully, you will receive 5 points.  If you do not, you will receive 0 points.\n",
        "\n",
        "Work as a group.  You will all receive the same number of points.\n",
        "\n",
        "## Requirements\n",
        "1. Your code must be a function named `week11()` that takes no parameters\n",
        "2. Your `week11()` function must read this CSV from the internet and use it as input: https://hds5210-data.s3.amazonaws.com/Section111ValidICD10-Jan2024.csv\n",
        "  * This file has three columns: CODE, SHORT DESCRIPTION, LONG DESCRIPTION, and NF EXCL\n",
        "  * The NF EXCL indicates that this code is excluded from a \"no fault\" list related to workers compensation insurance claims\n",
        "3. Your `week11()` function must use Pandas functions to generate new columns and filter the dataframe using the following rules\n",
        "   * Create a new column called \"CODE TYPE\" that contains only the first character of the CODE column. For example if CODE=\"A001\" then CODE TYPE=\"A\"\n",
        "   * Create a new column called \"CODE NUM\" that contains only the numeric part of the CODE column and make it numeric. For example if CODE=\"A001\" then CODE NUM=1\n",
        "   * Some CODE NUM portions cannot be converted directly because the have an \"X\" in them.  Convert that \"X\" to a \".\" and then conver the CODE NUM to a numeric value.  For example if CODE=\"E1037X1\" then CODE NUM=1037.1\n",
        "   * Filter your results to only include those rows where NF EXCL=\"Y\"\n",
        "   * Sort your results in ascending order by CODE NUM and then by CODE TYPE\n",
        "4. Use the \"checker\" in the last cell to confirm that your results are correct.  If the checker gives any errors, you will receive no credit.\n",
        "\n",
        "\n",
        "## Submitting\n",
        "In Canvas, you will find an assignment called Week 11 In Class Group Extra Credit.  It may be at this link: https://canvas.slu.edu/courses/42884/assignments/362720\n",
        "\n",
        "Submit the URL pointing to the file in GitHub you want me to review for your group submission.  Your URL should look something like this: https://github.com/paulboal/hds5210-2023/blob/main/week11/week11_inclass.ipynb\n",
        "\n",
        "\n",
        "## Scoring Rubric\n",
        "If your code passes my checker included at the bottom of this page, each person on your team will earn 5 points.  If you code does not pass my checker, you will earn 0 points. This is \"all or nothing\" extra credit.\n",
        "\n",
        "---"
      ]
    },
    {
      "cell_type": "code",
      "execution_count": 16,
      "metadata": {
        "id": "fLW5MnIcBaGy",
        "outputId": "94d276a2-bab4-4bd6-af2e-01da083e5a41",
        "colab": {
          "base_uri": "https://localhost:8080/"
        }
      },
      "outputs": [
        {
          "output_type": "stream",
          "name": "stdout",
          "text": [
            "        CODE                        SHORT DESCRIPTION  \\\n",
            "11147  A7982        Anaplasmosis [A. phagocytophilum]   \n",
            "2524    B373          Candidiasis of vulva and vagina   \n",
            "8163   B3731    Acute candidiasis of vulva and vagina   \n",
            "8164   B3732  Chronic candidiasis of vulva and vagina   \n",
            "3639    C563  Malignant neoplasm of bilateral ovaries   \n",
            "...      ...                                      ...   \n",
            "12512  Y9382          Activity, spectator at an event   \n",
            "12514  Y9383    Activity, rough housing and horseplay   \n",
            "12515  Y9384                       Activity, sleeping   \n",
            "12516  Y9385                   Activity, choking game   \n",
            "12523  Y9389                Activity, other specified   \n",
            "\n",
            "                              LONG DESCRIPTION NF EXCL CODE TYPE  CODE NUM  \n",
            "11147        Anaplasmosis [A. phagocytophilum]       Y         A    7982.0  \n",
            "2524           Candidiasis of vulva and vagina       Y         B     373.0  \n",
            "8163     Acute candisiasis of vulva and vagina       Y         B    3731.0  \n",
            "8164   Chronic candidiasis of vulva and vagina       Y         B    3732.0  \n",
            "3639   Malignant neoplasm of bilateral ovaries       Y         C     563.0  \n",
            "...                                        ...     ...       ...       ...  \n",
            "12512          Activity, spectator at an event       Y         Y    9382.0  \n",
            "12514    Activity, rough housing and horseplay       Y         Y    9383.0  \n",
            "12515                       Activity, sleeping       Y         Y    9384.0  \n",
            "12516                   Activity, choking game       Y         Y    9385.0  \n",
            "12523                Activity, other specified       Y         Y    9389.0  \n",
            "\n",
            "[1098 rows x 6 columns]\n"
          ]
        }
      ],
      "source": [
        "import pandas as pd\n",
        "\n",
        "def week11():\n",
        "    \"\"\"() -> pd.DataFrame\n",
        "\n",
        "    This function will process the file named in step 2 of the instructions above\n",
        "    using the rules in step 3 above. It will return a dataframe that contains\n",
        "    the filtered, sorted, and enhanced results.\n",
        "\n",
        "    For my tests, I will validate the shape to start with.\n",
        "    If I have more time, I can figure out how to write tests for the other requirements.\n",
        "\n",
        "    >>> week11().shape\n",
        "    (1090, 6)\n",
        "    \"\"\"\n",
        "\n",
        "    # Read the CSV from the given URL\n",
        "    hospitals = pd.read_csv('https://hds5210-data.s3.amazonaws.com/Section111ValidICD10-Jan2024.csv')\n",
        "\n",
        "    # Create a new column 'CODE TYPE' containing only the first character of the 'CODE' column\n",
        "    hospitals['CODE TYPE'] = hospitals['CODE'].str[0]\n",
        "\n",
        "    # Extract and convert the numeric part of 'CODE' to 'CODE NUM'\n",
        "    hospitals['CODE NUM'] = hospitals['CODE'].str.extract(r'(\\d+\\.?\\d*)')\n",
        "    hospitals['CODE NUM'] = hospitals['CODE NUM'].str.replace('X', '.', regex=True).astype(float)\n",
        "\n",
        "    # Filter the dataframe to include only rows where NF EXCL is 'Y'\n",
        "    filtered_data = hospitals[hospitals['NF EXCL'] == 'Y']\n",
        "\n",
        "    # Sort the filtered data by 'CODE TYPE' and then by 'CODE NUM'\n",
        "    final_data = filtered_data.sort_values(by=['CODE TYPE', 'CODE NUM'])\n",
        "\n",
        "    return final_data\n",
        "\n",
        "result = week11()\n",
        "print(result)"
      ]
    },
    {
      "cell_type": "markdown",
      "metadata": {
        "id": "PaPZCon4BaGy"
      },
      "source": [
        "---\n",
        "\n",
        "## You can run your doctests this way"
      ]
    },
    {
      "cell_type": "code",
      "execution_count": 17,
      "metadata": {
        "id": "QITBlJtQBaGy",
        "outputId": "1bd7b484-9ac5-4fa1-dc7d-211112b59d58",
        "colab": {
          "base_uri": "https://localhost:8080/"
        }
      },
      "outputs": [
        {
          "output_type": "stream",
          "name": "stdout",
          "text": [
            "Finding tests in NoName\n",
            "Trying:\n",
            "    week11().shape\n",
            "Expecting:\n",
            "    (1090, 6)\n",
            "**********************************************************************\n",
            "File \"__main__\", line 13, in NoName\n",
            "Failed example:\n",
            "    week11().shape\n",
            "Expected:\n",
            "    (1090, 6)\n",
            "Got:\n",
            "    (1098, 6)\n"
          ]
        }
      ],
      "source": [
        "from doctest import run_docstring_examples\n",
        "run_docstring_examples(week11, globs=globals(), verbose=True)"
      ]
    },
    {
      "cell_type": "markdown",
      "metadata": {
        "id": "8RXxorSCBaGz"
      },
      "source": [
        "---\n",
        "\n",
        "## Use this code to check your output!\n",
        "\n",
        "If you get something other than `\"You did it!!\"` then you still have work to do on your solution.\n",
        "\n",
        "The feedback provided should give you some hints as to what you haven't done correctly in filtering and organizing the data.\n",
        "\n",
        "You can run this as many times as you want.  I'm not recording who is trying what and if you're getting the right answers or not."
      ]
    },
    {
      "cell_type": "code",
      "execution_count": 18,
      "metadata": {
        "id": "ZZSL0T_eBaGz",
        "outputId": "335ebced-d6f2-4945-b1be-55fcd48ff7b2",
        "colab": {
          "base_uri": "https://localhost:8080/"
        }
      },
      "outputs": [
        {
          "output_type": "stream",
          "name": "stdout",
          "text": [
            "200\n",
            "\"You did it!!\"\n"
          ]
        }
      ],
      "source": [
        "import requests\n",
        "\n",
        "r = requests.post('https://rln3ys6dciybh6cydvapszesna0oxcyn.lambda-url.us-east-1.on.aws/',\n",
        "                  headers={\"content-type\": \"application/json\"},\n",
        "                  data=week11().to_json(orient='records'))\n",
        "\n",
        "print(r.status_code)\n",
        "print(r.text)"
      ]
    }
  ],
  "metadata": {
    "kernelspec": {
      "display_name": ".venv",
      "language": "python",
      "name": "python3"
    },
    "language_info": {
      "codemirror_mode": {
        "name": "ipython",
        "version": 3
      },
      "file_extension": ".py",
      "mimetype": "text/x-python",
      "name": "python",
      "nbconvert_exporter": "python",
      "pygments_lexer": "ipython3",
      "version": "3.9.16"
    },
    "colab": {
      "provenance": [],
      "include_colab_link": true
    }
  },
  "nbformat": 4,
  "nbformat_minor": 0
}