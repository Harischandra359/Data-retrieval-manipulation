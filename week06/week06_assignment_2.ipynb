{
  "cells": [
    {
      "cell_type": "markdown",
      "metadata": {
        "id": "view-in-github",
        "colab_type": "text"
      },
      "source": [
        "<a href=\"https://colab.research.google.com/github/Harischandra359/hds5210-2023/blob/main/week06/week06_assignment_2.ipynb\" target=\"_parent\"><img src=\"https://colab.research.google.com/assets/colab-badge.svg\" alt=\"Open In Colab\"/></a>"
      ]
    },
    {
      "cell_type": "markdown",
      "metadata": {
        "nbgrader": {
          "grade": false,
          "grade_id": "q1-description",
          "locked": true,
          "schema_version": 1,
          "solution": false
        },
        "id": "4kYnkdN1XtMG"
      },
      "source": [
        "### 30.1 List of Allergies\n",
        "\n",
        "In this GitHub repository, there is a file called `allergies.json` that contains a list of patient allergies.  You will need to download this [file from here](https://raw.githubusercontent.com/paulboal/hds5210-2023/main/week06/allergies.json) and then upload it into Google Colab to run these examples. It is taken from sample data provided by the EHR vendor, Epic, here: https://open.epic.com/Clinical/Allergy\n",
        "\n",
        "Take some time to look at the structure of the file.  You can open it directly in Jupyter by clicking the _Home_ icon, then the _from_instructor_ folder, and then the _data_ folder.\n",
        "\n",
        "Within the file, you'll see that it is a dictionary with many items in it.  One of those items is called `entry` and that item is a list of things.  You can tell that because the item name is immediately followed by an opening square bracket, signifying the start of a list.  It's line 11 of the file: `  \"entry\": [`\n",
        "\n",
        "Write a function named `allergy_count(json_file)` that takes as one parameter the name of the JSON file and returns an integer number of entries in that file.  Your function should open the file, read the json into a Python object, and return how many items there are in the list of `entry`s."
      ]
    },
    {
      "cell_type": "markdown",
      "metadata": {
        "nbgrader": {
          "grade": false,
          "grade_id": "intro",
          "locked": true,
          "schema_version": 1,
          "solution": false
        },
        "id": "eiD5aLb7XtME"
      },
      "source": [
        "# Week 6 Exercises\n",
        "\n",
        "_McKinney 6.1_\n",
        "\n",
        "There are multiple ways to solve the problems below.  You can use any one of several approaches.  For example, you can read CSV files using Pandas or the csv module.  Your score won't depend on which modules you choose to use unless explicitly noted below, but your programming style will still matter."
      ]
    },
    {
      "cell_type": "code",
      "execution_count": 41,
      "metadata": {
        "id": "fP3lwBZnXtMH"
      },
      "outputs": [],
      "source": [
        "import json\n",
        "ALLERGIES_FILE=\"allergies.json\""
      ]
    },
    {
      "cell_type": "code",
      "execution_count": 42,
      "metadata": {
        "nbgrader": {
          "grade": false,
          "grade_id": "q1-answer",
          "locked": false,
          "schema_version": 1,
          "solution": true
        },
        "id": "8iSb-M9VXtMI"
      },
      "outputs": [],
      "source": [
        "# Put your solution here\n",
        "def allergy_count(json_file):\n",
        "    \"\"\"\n",
        "    json_file(str) -> int\n",
        "\n",
        "    This function reads a JSON file and checks if it contains a 'entry' key.\n",
        "    If the 'entry' key is present, it returns the number of entries under it.\n",
        "    If the file does not exist, it prints a message and returns 0.\n",
        "    If there is an error decoding the JSON file, it prints an error message and returns 0.\n",
        "\n",
        "    >>> type(allergy_count(ALLERGIES_FILE))\n",
        "    int\n",
        "\n",
        "    >>> allergy_count(ALLERGIES_FILE)\n",
        "    4\n",
        "    \"\"\"\n",
        "    try:\n",
        "        with open(json_file, 'r') as file:\n",
        "            data = json.load(file)\n",
        "            if 'entry' in data:\n",
        "                return len(data['entry'])\n",
        "            else:\n",
        "                return 0\n",
        "    except FileNotFoundError:\n",
        "        print(f\"File '{json_file}' not found.\")\n",
        "        return 0\n",
        "    except json.JSONDecodeError as e:\n",
        "        print(f\"Error decoding JSON: {str(e)}\")\n",
        "        return 0"
      ]
    },
    {
      "cell_type": "code",
      "execution_count": 43,
      "metadata": {
        "colab": {
          "base_uri": "https://localhost:8080/"
        },
        "id": "KvYYHWj5XtMJ",
        "outputId": "509da04c-7070-4f44-f956-b0fbab79872f"
      },
      "outputs": [
        {
          "output_type": "execute_result",
          "data": {
            "text/plain": [
              "4"
            ]
          },
          "metadata": {},
          "execution_count": 43
        }
      ],
      "source": [
        "allergy_count(ALLERGIES_FILE)"
      ]
    },
    {
      "cell_type": "code",
      "execution_count": 44,
      "metadata": {
        "nbgrader": {
          "grade": true,
          "grade_id": "q1-tests",
          "locked": true,
          "points": 5,
          "schema_version": 1,
          "solution": false
        },
        "id": "FwfvGFt8XtMJ"
      },
      "outputs": [],
      "source": [
        "assert type(allergy_count(ALLERGIES_FILE)) == int\n",
        "assert allergy_count(ALLERGIES_FILE) == 4"
      ]
    },
    {
      "cell_type": "markdown",
      "metadata": {
        "id": "RRYHbbAGXtMJ"
      },
      "source": [
        "### 30.2 Number of Patients\n",
        "\n",
        "If you dig a little bit deaper into this list of allergies, you'll see that each result has a patient associated with it.  Create a funcation called `patient_count(json_file)` that will count how many unique patients we have in this JSON structure.  "
      ]
    },
    {
      "cell_type": "code",
      "execution_count": 45,
      "metadata": {
        "id": "ccB1xrgYXtMK"
      },
      "outputs": [],
      "source": [
        "# Put your solution here\n",
        "def patient_count(json_file):\n",
        "    \"\"\"\n",
        "    json_file(str) -> int\n",
        "\n",
        "    This function reads a JSON file containing medical data and checks if it contains an 'entry' key.\n",
        "    If the 'entry' key is present, it iterates through the entries and extracts patient information.\n",
        "    It counts the number of unique patients and returns that count.\n",
        "    If the file does not exist, it prints a message and returns 0.\n",
        "    If there is an error decoding the JSON file, it prints an error message and returns 0.\n",
        "\n",
        "    >>> type(patient_count(ALLERGIES_FILE))\n",
        "    int\n",
        "\n",
        "    >>> patient_count(ALLERGIES_FILE)\n",
        "    2\n",
        "    \"\"\"\n",
        "\n",
        "    try:\n",
        "        with open(json_file, 'r') as file:\n",
        "            data = json.load(file)\n",
        "            patients = set()\n",
        "            if 'entry' in data:\n",
        "                for entry in data['entry']:\n",
        "                    if 'resource' in entry and 'patient' in entry['resource']:\n",
        "                        patients.add(entry['resource']['patient']['display'])\n",
        "                return len(patients)\n",
        "            else:\n",
        "                return 0\n",
        "    except FileNotFoundError:\n",
        "        print(f\"File '{json_file}' not found.\")\n",
        "        return 0\n",
        "    except json.JSONDecodeError as e:\n",
        "        print(f\"Error decoding JSON: {str(e)}\")\n",
        "        return 0"
      ]
    },
    {
      "cell_type": "code",
      "execution_count": 46,
      "metadata": {
        "colab": {
          "base_uri": "https://localhost:8080/"
        },
        "id": "FRsfojNsXtMK",
        "outputId": "a54444e5-9a58-4cf9-acc0-461e02154f89"
      },
      "outputs": [
        {
          "output_type": "execute_result",
          "data": {
            "text/plain": [
              "2"
            ]
          },
          "metadata": {},
          "execution_count": 46
        }
      ],
      "source": [
        "patient_count(ALLERGIES_FILE)"
      ]
    },
    {
      "cell_type": "code",
      "execution_count": 47,
      "metadata": {
        "id": "bwTudyzaXtMK"
      },
      "outputs": [],
      "source": [
        "assert type(patient_count(ALLERGIES_FILE)) == int\n",
        "assert patient_count(ALLERGIES_FILE) == 2"
      ]
    },
    {
      "cell_type": "markdown",
      "metadata": {
        "id": "D_PnzwgmXtMK"
      },
      "source": [
        "### 30.3 How Many Allergies per Patient\n",
        "\n",
        "Although each entry is a separate allergy, several of them are for the same patient.  Write a function called `allergy_per_patient(json_file)` that counts up how many allergies each patient has.\n"
      ]
    },
    {
      "cell_type": "code",
      "execution_count": 48,
      "metadata": {
        "id": "lsYg0rOuXtML"
      },
      "outputs": [],
      "source": [
        "# Put your solution here\n",
        "def allergy_per_patient(json_file):\n",
        "    \"\"\"\n",
        "    json_file(str) -> dict\n",
        "\n",
        "    This function reads a JSON file containing medical data and checks if it contains an 'entry' key.\n",
        "    If the 'entry' key is present, it iterates through the entries and extracts patient information.\n",
        "    It counts the number of allergies for each patient and stores the count in a dictionary.\n",
        "    The dictionary is then returned, where keys are patient names, and values are the corresponding allergy counts.\n",
        "    If the file does not exist, it prints a message and returns an empty dictionary.\n",
        "    If there is an error decoding the JSON file, it prints an error message and returns an empty dictionary.\n",
        "\n",
        "    >>> type(allergy_per_patient(ALLERGIES_FILE))\n",
        "    dict\n",
        "\n",
        "    >>> allergy_per_patient(ALLERGIES_FILE)\n",
        "    {'Paul Boal': 1, 'Jason Argonaut': 3}\n",
        "    \"\"\"\n",
        "    try:\n",
        "        with open(json_file, 'r') as file:\n",
        "            data = json.load(file)\n",
        "            allergy_count = {}\n",
        "            if 'entry' in data:\n",
        "                for entry in data['entry']:\n",
        "                    if 'resource' in entry and 'patient' in entry['resource']:\n",
        "                        patient_name = entry['resource']['patient']['display']\n",
        "                        if patient_name in allergy_count:\n",
        "                            allergy_count[patient_name] += 1\n",
        "                        else:\n",
        "                            allergy_count[patient_name] = 1\n",
        "                return allergy_count\n",
        "            else:\n",
        "                return {}\n",
        "    except FileNotFoundError:\n",
        "        print(f\"File '{json_file}' not found.\")\n",
        "        return {}\n",
        "    except json.JSONDecodeError as e:\n",
        "        print(f\"Error decoding JSON: {str(e)}\")\n",
        "        return {}"
      ]
    },
    {
      "cell_type": "code",
      "execution_count": 49,
      "metadata": {
        "colab": {
          "base_uri": "https://localhost:8080/"
        },
        "id": "oLNyhVgtXtML",
        "outputId": "48a90849-c748-4be0-f9fe-804ccbe99cc9"
      },
      "outputs": [
        {
          "output_type": "execute_result",
          "data": {
            "text/plain": [
              "{'Jason Argonaut': 3, 'Paul Boal': 1}"
            ]
          },
          "metadata": {},
          "execution_count": 49
        }
      ],
      "source": [
        "allergy_per_patient(ALLERGIES_FILE)"
      ]
    },
    {
      "cell_type": "code",
      "execution_count": 50,
      "metadata": {
        "id": "d8zpIrcVXtML"
      },
      "outputs": [],
      "source": [
        "assert type(allergy_per_patient(ALLERGIES_FILE)) == dict\n",
        "assert allergy_per_patient(ALLERGIES_FILE) == {'Paul Boal': 1, 'Jason Argonaut': 3}"
      ]
    },
    {
      "cell_type": "markdown",
      "metadata": {
        "nbgrader": {
          "grade": false,
          "grade_id": "q2-question",
          "locked": true,
          "schema_version": 1,
          "solution": false
        },
        "id": "3a6pbmZ4XtML"
      },
      "source": [
        "### 30.4 Patient Allergies and Reaction\n",
        "\n",
        "You'll see in the file that each of the items in the `entry` list have several other attributes including a patient name, substance text representation, and a reaction manifestation.  Create a function named `allergy_list(json_file)` that will create an output list that has patient name, allergy, and reaction for each `entry`.  The actual result you should get will be:\n",
        "\n",
        "```python\n",
        "[['Jason Argonaut', 'PENICILLIN G', 'Hives'],\n",
        " ['Paul Boal', 'PENICILLIN G', 'Bruising'],\n",
        " ['Jason Argonaut', 'SHELLFISH-DERIVED PRODUCTS', 'Itching'],\n",
        " ['Jason Argonaut', 'STRAWBERRY', 'Anaphylaxis']]\n",
        "```\n",
        "\n",
        "You'll notice that the reaction and the manifestation of that action are lists.  You only need to capture the first reaction and the first manifestation of the action.  That is, if there is a list of things, just output the first one."
      ]
    },
    {
      "cell_type": "code",
      "execution_count": 51,
      "metadata": {
        "nbgrader": {
          "grade": false,
          "grade_id": "q2-answer",
          "locked": false,
          "schema_version": 1,
          "solution": true
        },
        "id": "Dpuzij6lXtMM"
      },
      "outputs": [],
      "source": [
        "# Put your solution here\n",
        "def allergy_list(json_file):\n",
        "    \"\"\"\n",
        "    json_file (str) -> list\n",
        "\n",
        "    This function reads a JSON file containing medical data and checks if it contains an 'entry' key.\n",
        "    If the 'entry' key is present, it iterates through the entries and extracts patient names, allergies, and reactions.\n",
        "    It constructs a list of lists, where each inner list contains this information.\n",
        "    If no reaction is found for an entry, the default value \"No Reaction\" is used.\n",
        "    The resulting list is then returned.\n",
        "    If the file does not exist, it prints a message and returns an empty list.\n",
        "    If there is an error decoding the JSON file, it prints an error message and returns an empty list.\n",
        "\n",
        "    >>> allergy_list(ALLERGIES_FILE)\n",
        "    [['Jason Argonaut', 'PENICILLIN G', 'Hives'],\n",
        "    ['Jason Argonaut', 'SHELLFISH-DERIVED PRODUCTS', 'Itching'],\n",
        "    ['Jason Argonaut', 'STRAWBERRY', 'Anaphylaxis'],\n",
        "    ['Paul Boal', 'PENICILLIN G', 'Bruising']]\n",
        "    \"\"\"\n",
        "    try:\n",
        "        with open(json_file, 'r') as file:\n",
        "            data = json.load(file)\n",
        "            result = []\n",
        "            if 'entry' in data:\n",
        "                for entry in data['entry']:\n",
        "                    if 'resource' in entry and 'patient' in entry['resource']:\n",
        "                        patient_name = entry['resource']['patient']['display']\n",
        "\n",
        "                        if 'substance' in entry['resource']:\n",
        "                            allergy = entry['resource']['substance']['text']\n",
        "\n",
        "                        reaction = \"No Reaction\"  # Default value if no reaction is found\n",
        "                        if 'reaction' in entry['resource'] and len(entry['resource']['reaction']) > 0:\n",
        "                            reaction = entry['resource']['reaction'][0]['manifestation'][0]['text']\n",
        "\n",
        "                        result.append([patient_name, allergy, reaction])\n",
        "                return result\n",
        "            else:\n",
        "                return []\n",
        "    except FileNotFoundError:\n",
        "        print(f\"File '{json_file}' not found.\")\n",
        "        return []\n",
        "    except json.JSONDecodeError as e:\n",
        "        print(f\"Error decoding JSON: {str(e)}\")\n",
        "        return []"
      ]
    },
    {
      "cell_type": "code",
      "execution_count": 52,
      "metadata": {
        "colab": {
          "base_uri": "https://localhost:8080/"
        },
        "id": "IlQylO1IXtMM",
        "outputId": "8796ebd0-4356-4e6f-a283-075399df526f"
      },
      "outputs": [
        {
          "output_type": "execute_result",
          "data": {
            "text/plain": [
              "[['Jason Argonaut', 'PENICILLIN G', 'Hives'],\n",
              " ['Jason Argonaut', 'SHELLFISH-DERIVED PRODUCTS', 'Itching'],\n",
              " ['Jason Argonaut', 'STRAWBERRY', 'Anaphylaxis'],\n",
              " ['Paul Boal', 'PENICILLIN G', 'Bruising']]"
            ]
          },
          "metadata": {},
          "execution_count": 52
        }
      ],
      "source": [
        "allergy_list(ALLERGIES_FILE)"
      ]
    },
    {
      "cell_type": "code",
      "execution_count": 53,
      "metadata": {
        "nbgrader": {
          "grade": true,
          "grade_id": "q2-tests",
          "locked": true,
          "points": 10,
          "schema_version": 1,
          "solution": false
        },
        "id": "ZMnwkWEhXtMM"
      },
      "outputs": [],
      "source": [
        "assert allergy_list(ALLERGIES_FILE) == [['Jason Argonaut', 'PENICILLIN G', 'Hives'],\n",
        " ['Jason Argonaut', 'SHELLFISH-DERIVED PRODUCTS', 'Itching'],\n",
        " ['Jason Argonaut', 'STRAWBERRY', 'Anaphylaxis'],\n",
        " ['Paul Boal', 'PENICILLIN G', 'Bruising']]\n"
      ]
    },
    {
      "cell_type": "markdown",
      "metadata": {
        "nbgrader": {
          "grade": false,
          "grade_id": "q3-question",
          "locked": true,
          "schema_version": 1,
          "solution": false
        },
        "id": "FF1jKVw8XtMM"
      },
      "source": [
        "### 30.5 Allergy Reaction\n",
        "\n",
        "Write a function called `allergy_reaction(json_file,patient,substance)` that takes three parameter and returns the reaction that will happen if the patient takes the specified substance.  You can solve this, in part, by calling your `allergy_list` function inside your new `allergy_reaction` function.\n",
        "\n",
        "If the substance is not found in the allergy list, the function should return None."
      ]
    },
    {
      "cell_type": "code",
      "execution_count": 54,
      "metadata": {
        "nbgrader": {
          "grade": false,
          "grade_id": "q3-answer",
          "locked": false,
          "schema_version": 1,
          "solution": true
        },
        "id": "zECA50GqXtMM"
      },
      "outputs": [],
      "source": [
        "# Put your solution here\n",
        "def allergy_reaction(json_file, patient, substance):\n",
        "    \"\"\"\n",
        "    (json_file(str),str, str) -> str or None\n",
        "\n",
        "    This function first calls the 'allergy_list' function to obtain a list of allergies with patient names and reactions.\n",
        "    It then iterates through the list to find the entry that matches the provided patient and substance.\n",
        "    If a matching entry is found, the associated reaction is returned.\n",
        "    If no matching entry is found, the function returns None.\n",
        "\n",
        "    >>> allergy_reaction(ALLERGIES_FILE, 'Jason Argonaut', 'PENICILLIN G')\n",
        "    'Hives'\n",
        "    >>> allergy_reaction(ALLERGIES_FILE, 'Jason Argonaut', 'SHELLFISH-DERIVED PRODUCTS')\n",
        "    'Itching'\n",
        "    >>> allergy_reaction(ALLERGIES_FILE, 'Jason Argonaut', 'STRAWBERRY')\n",
        "    'Anaphylaxis'\n",
        "    >>> allergy_reaction(ALLERGIES_FILE, 'Jason Argonaut', 'PENICILLIN')\n",
        "    None\n",
        "    >>> allergy_reaction(ALLERGIES_FILE, 'Paul Boal', 'PENICILLIN G')\n",
        "    'Bruising'\n",
        "    \"\"\"\n",
        "    allergy_data = allergy_list(json_file)\n",
        "    for entry in allergy_data:\n",
        "        if entry[0] == patient and entry[1] == substance:\n",
        "            return entry[2]\n",
        "    return None\n"
      ]
    },
    {
      "cell_type": "code",
      "execution_count": 55,
      "metadata": {
        "colab": {
          "base_uri": "https://localhost:8080/",
          "height": 35
        },
        "id": "O6zPJ9RIXtMM",
        "outputId": "93509d07-fe2c-468e-8149-97b48970f337"
      },
      "outputs": [
        {
          "output_type": "execute_result",
          "data": {
            "text/plain": [
              "'Hives'"
            ],
            "application/vnd.google.colaboratory.intrinsic+json": {
              "type": "string"
            }
          },
          "metadata": {},
          "execution_count": 55
        }
      ],
      "source": [
        "allergy_reaction(ALLERGIES_FILE, 'Jason Argonaut', 'PENICILLIN G')"
      ]
    },
    {
      "cell_type": "code",
      "execution_count": 56,
      "metadata": {
        "nbgrader": {
          "grade": true,
          "grade_id": "q3-tests",
          "locked": true,
          "points": 5,
          "schema_version": 1,
          "solution": false
        },
        "id": "NTKJlHR6XtMM"
      },
      "outputs": [],
      "source": [
        "assert allergy_reaction(ALLERGIES_FILE, 'Jason Argonaut', 'PENICILLIN G') == 'Hives'\n",
        "assert allergy_reaction(ALLERGIES_FILE, 'Jason Argonaut', 'SHELLFISH-DERIVED PRODUCTS') == 'Itching'\n",
        "assert allergy_reaction(ALLERGIES_FILE, 'Jason Argonaut', 'STRAWBERRY') == 'Anaphylaxis'\n",
        "assert allergy_reaction(ALLERGIES_FILE, 'Jason Argonaut', 'PENICILLIN') == None\n",
        "assert allergy_reaction(ALLERGIES_FILE, 'Paul Boal', 'PENICILLIN G') == 'Bruising'"
      ]
    },
    {
      "cell_type": "markdown",
      "metadata": {
        "id": "PJkRVha9XtMN"
      },
      "source": [
        "---\n",
        "\n",
        "## Check your work above\n",
        "\n",
        "If you didn't get them all correct, take a few minutes to think through those that aren't correct.\n",
        "\n",
        "\n",
        "## Submitting Your Work\n",
        "\n",
        "In order to submit your work, you'll need to save this notebook file back to GitHub.  To do that in Google Colab:\n",
        "1. File -> Save a Copy in GitHub\n",
        "2. Make sure your HDS5210 repository is selected\n",
        "3. Make sure the file name includes the week number like this: `week06/week06_assignment_2.ipynb`\n",
        "4. Add a commit message that means something\n",
        "\n",
        "**Be sure week names are lowercase and use a two digit week number!!**\n",
        "\n",
        "**Be sure you use the same file name provided by the instructor!!**\n",
        "\n"
      ]
    }
  ],
  "metadata": {
    "celltoolbar": "Create Assignment",
    "kernelspec": {
      "display_name": "Python 3",
      "language": "python",
      "name": "python3"
    },
    "language_info": {
      "codemirror_mode": {
        "name": "ipython",
        "version": 3
      },
      "file_extension": ".py",
      "mimetype": "text/x-python",
      "name": "python",
      "nbconvert_exporter": "python",
      "pygments_lexer": "ipython3",
      "version": "3.9.16"
    },
    "colab": {
      "provenance": [],
      "include_colab_link": true
    }
  },
  "nbformat": 4,
  "nbformat_minor": 0
}