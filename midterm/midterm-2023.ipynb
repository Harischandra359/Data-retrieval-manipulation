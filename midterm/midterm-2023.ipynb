{
  "cells": [
    {
      "cell_type": "markdown",
      "metadata": {
        "id": "view-in-github",
        "colab_type": "text"
      },
      "source": [
        "<a href=\"https://colab.research.google.com/github/Harischandra359/hds5210-2023/blob/main/midterm/midterm-2023.ipynb\" target=\"_parent\"><img src=\"https://colab.research.google.com/assets/colab-badge.svg\" alt=\"Open In Colab\"/></a>"
      ]
    },
    {
      "cell_type": "markdown",
      "metadata": {
        "id": "yKarNa-_CUnS"
      },
      "source": [
        "# HDS5210-2022 Midterm\n",
        "\n",
        "In the midterm, you're going to use all the programming and data management skills you've developed so far to build a risk calculator that pretends to be integrated with a clinical registry.  You'll compute the PRIEST COVID-19 Clinical Severity Score for a series of patients and, based on their risk of an adverse outcome, query a REST web service to find a hospital to transfer them to. The end result of your work will be a list of instructions on where each patient should be discharged given their risk and various characteristics of the patient.\n",
        "\n",
        "Each step in the midterm will build up to form your complete solution.\n",
        "\n",
        "**Make sure you write good docstrings and doctests along the way!!**\n",
        "\n",
        "**The midterm is due at 11:59 PM CST on Monday, October 23rd.**\n",
        "\n",
        "---"
      ]
    },
    {
      "cell_type": "markdown",
      "metadata": {
        "id": "JH64rxktCUnU"
      },
      "source": [
        "## Step 1: Calculate PRIEST Clinical Severity Score\n",
        "\n",
        "This scoring algorithm can be found [here on the MDCalc website](https://www.mdcalc.com/priest-covid-19-clinical-severity-score#evidence).  \n",
        "\n",
        "1. You will need to write a function called **priest()** with the following input parameters.  \n",
        " * Sex (Gender assigned at birth)\n",
        " * Age in years\n",
        " * Respiratory rate in breaths per minute\n",
        " * Oxygen saturation as a percent between 0 and 1\n",
        " * Heart rate in beats per minute\n",
        " * Systolic BP in mmHg\n",
        " * Temperature in degrees C\n",
        " * Alertness as a string description\n",
        " * Inspired Oxygen as as string description\n",
        " * Performance Status as a string description\n",
        "2. The function will need to follow the algorithm provided on the MDCalc website to compute a risk percentage that should be returned as a numeric value between 0 and 1.\n",
        "3. Be sure to use docstring documentation and at least three built-in docstring test cases.\n",
        "4. Assume that the input values that are strings could be any combination of upper or lower case. For example: 'male', 'Male', 'MALE', 'MalE' should all be interpretted by your code as male.\n",
        "5. If any of the inputs are invalid (for example a sex value that is not recognizable as male or female) your code should return None.\n",
        "\n",
        "NOTES:\n",
        "1. In the final step there is a table that translates from **PRIEST Score** to **30-day probability of an outcome** but the last two probabilities are shown as ranges (59-88% and >99%).  Our code needs to output a single number, however. For our code, use the following rule:\n",
        " * If PRIEST score is between 17 and 25, the probability you return should be 0.59\n",
        " * If PRIEST score is greater than or equal to 26, the probability you return should be 0.99\n"
      ]
    },
    {
      "cell_type": "code",
      "execution_count": 85,
      "metadata": {
        "colab": {
          "base_uri": "https://localhost:8080/"
        },
        "id": "s_maLHqxCUnU",
        "outputId": "80a3fca6-25cc-4b24-9d40-ade634370a88"
      },
      "outputs": [
        {
          "output_type": "stream",
          "name": "stdout",
          "text": [
            "0.0\n",
            "0.59\n",
            "None\n"
          ]
        }
      ],
      "source": [
        "def calculate_priest_prob(sex, age, resp_rate, oxy_saturation, heart_rate, systolic_bp, temp, alert, oxy_src, performance):\n",
        "    \"\"\"\n",
        "    This functions calculate priest Clinical Severity Score and return the risk probability.\n",
        "\n",
        "    Parameters:\n",
        "    sex (str): The patient's sex.\n",
        "    age (int): The patient's age.\n",
        "    resp_rate (int): Respiratory rate.\n",
        "    oxy_saturation (float): Oxygen saturation level.\n",
        "    heart_rate (int): Heart rate.\n",
        "    systolic_bp (int): Systolic blood pressure.\n",
        "    temp (float): Body temperature.\n",
        "    alert (str): Alertness status.\n",
        "    oxygen_src (str): Source of inspired oxygen.\n",
        "    performance (str): Performance status.\n",
        "\n",
        "    The function returns float value\n",
        "    \"\"\"\n",
        "\n",
        "    sex = sex.lower()\n",
        "    alert = alert.lower()\n",
        "    oxy_src = oxy_src.lower()\n",
        "    performance = performance.lower()\n",
        "\n",
        "    sex_score = age_score = resp_rate_score = oxy_sat_score = heart_rate_score = bp_score = temp_score = alert_score = oxy_src_score = performance_score = 0\n",
        "\n",
        "    if sex == 'male':\n",
        "        sex_score = 1\n",
        "    elif sex == 'female':\n",
        "        sex_score = 0\n",
        "    else:\n",
        "        return None\n",
        "\n",
        "    if 16 <= age <= 49:\n",
        "        age_score = 0\n",
        "    elif 50 <= age <= 65:\n",
        "        age_score = 2\n",
        "    elif 66 <= age <= 80:\n",
        "        age_score = 3\n",
        "    elif age > 80:\n",
        "        age_score = 4\n",
        "    else:\n",
        "        return None\n",
        "\n",
        "    if resp_rate < 9 or resp_rate > 24:\n",
        "        resp_rate_score = 3\n",
        "    elif 9 <= resp_rate <= 11:\n",
        "        resp_rate_score = 1\n",
        "    elif 21 <= resp_rate <= 24:\n",
        "        resp_rate_score = 2\n",
        "    elif 12 <= resp_rate <= 20:\n",
        "        resp_rate_score = 0\n",
        "    else:\n",
        "        return None\n",
        "\n",
        "    if oxy_saturation >= 0.95:\n",
        "        oxy_sat_score = 0\n",
        "    elif oxy_saturation >= 0.94:\n",
        "        oxy_sat_score = 1\n",
        "    elif oxy_saturation >= 0.92:\n",
        "        oxy_sat_score = 2\n",
        "    elif oxy_saturation < 0.92:\n",
        "        oxy_sat_score = 3\n",
        "    else:\n",
        "        return None\n",
        "\n",
        "    if 51 <= heart_rate <= 90:\n",
        "        heart_rate_score = 0\n",
        "    elif (41 <= heart_rate <= 50) or (91 <= heart_rate <= 110):\n",
        "        heart_rate_score = 1\n",
        "    elif heart_rate < 41 or heart_rate > 130:\n",
        "        heart_rate_score = 3\n",
        "    elif 111 <= heart_rate <= 130:\n",
        "        heart_rate_score = 2\n",
        "    else:\n",
        "        return None\n",
        "\n",
        "    if 111 <= systolic_bp <= 219:\n",
        "        bp_score = 0\n",
        "    elif 101 <= systolic_bp <= 110:\n",
        "        bp_score = 1\n",
        "    elif 91 <= systolic_bp <= 100:\n",
        "        bp_score = 2\n",
        "    elif systolic_bp < 91 or systolic_bp > 219:\n",
        "        bp_score = 3\n",
        "    else:\n",
        "        return None\n",
        "\n",
        "    if 36.1 <= temp <= 38:\n",
        "        temp_score = 0\n",
        "    elif (35.1 <= temp <= 36) or (38.1 <= temp <= 39):\n",
        "        temp_score = 1\n",
        "    elif temp > 39:\n",
        "        temp_score = 2\n",
        "    elif temp < 35.1:\n",
        "        temp_score = 3\n",
        "    else:\n",
        "        return None\n",
        "\n",
        "    if alert == 'alert':\n",
        "        alert_score = 0\n",
        "    elif alert == 'confused or not alert':\n",
        "        alert_score = 3\n",
        "    else:\n",
        "        return None\n",
        "\n",
        "    if oxy_src == 'air':\n",
        "        oxy_src_score = 0\n",
        "    elif oxy_src == 'supplemental oxygen':\n",
        "        oxy_src_score = 2\n",
        "    else:\n",
        "        return None\n",
        "\n",
        "    if performance == 'unrestricted normal activity':\n",
        "        performance_score = 0\n",
        "    elif performance == 'limited strenuous activity, can do light activity':\n",
        "        performance_score = 1\n",
        "    elif performance == 'limited activity, can self-care':\n",
        "        performance_score = 2\n",
        "    elif performance == 'limited self-care':\n",
        "        performance_score = 3\n",
        "    elif performance == 'bed/chair bound, no self-care':\n",
        "        performance_score = 4\n",
        "    else:\n",
        "        return None\n",
        "\n",
        "    priest_score = sex_score + age_score + resp_rate_score + oxy_sat_score + heart_rate_score + bp_score + temp_score + alert_score + oxy_src_score + performance_score\n",
        "\n",
        "    if 17 <= priest_score <= 25:\n",
        "        priest_probability = 0.59\n",
        "    elif priest_score >= 26:\n",
        "        priest_probability = 0.99\n",
        "    else:\n",
        "        priest_probability = 0.0\n",
        "\n",
        "    return priest_probability\n",
        "\n",
        "# Test cases\n",
        "print(calculate_priest_prob('male', 55, 18, 0.95, 85, 115, 36.9, 'confused or not alert', 'supplemental oxygen', 'limited self-care'))\n",
        "print(calculate_priest_prob('female', 70, 23, 0.91, 100, 140, 38.2, 'confused or not alert', 'supplemental oxygen', 'bed/chair bound, no self-care'))\n",
        "print(calculate_priest_prob('unknown', 45, 20, 0.98, 75, 125, 37.3, 'Alert', 'Air', 'Unrestricted normal activity'))\n",
        "\n"
      ]
    },
    {
      "cell_type": "code",
      "execution_count": 86,
      "metadata": {
        "colab": {
          "base_uri": "https://localhost:8080/"
        },
        "id": "FLBhd8qSCUnV",
        "outputId": "c1afd86c-3e02-4a2b-b2a4-791d1a276953"
      },
      "outputs": [
        {
          "output_type": "stream",
          "name": "stdout",
          "text": [
            "Finding tests in NoName\n"
          ]
        }
      ],
      "source": [
        "import doctest\n",
        "doctest.run_docstring_examples(calculate_priest_prob, globals(),verbose=True)"
      ]
    },
    {
      "cell_type": "markdown",
      "metadata": {
        "id": "MdvCtNX3CUnV"
      },
      "source": [
        "## Part 2: Find a hospital\n",
        "\n",
        "The next thing we have to do is figure out where to send this particular patient.  The guidelines on where to send a patient are based on their age (pediatric, adult, geriatric), sex, and risk percentage.  Luckily, you don't have to implement these rules. I already have. All you have to do is use a REST web service that I've created for you.\n",
        "\n",
        "You'll want to use Python to make a call to my REST web service similar to the example URL below. The first part of the URL will be the same for everyone and every request that you make. What you will need to modify for each of your requests is the information after the question mark.\n",
        "\n",
        "```\n",
        "https://oumdj6oci2.execute-api.us-east-1.amazonaws.com/prd/?age=40&sex=male&risk_pct=0.1\n",
        "```\n",
        "\n",
        "The example above asks my web service where a 40-year old male with a risk of 10% should go.  What the web service will return back is a JSON string containing the information you need.  That JSON will look like this:\n",
        "\n",
        "```json\n",
        "{\n",
        "  \"age\": \"40\",\n",
        "  \"sex\": \"male\",\n",
        "  \"risk\": \"0.1\",\n",
        "  \"hospital\": \"Southwest Hospital and Medical Center\"\n",
        "}\n",
        "```\n",
        "\n",
        "My function is not smart enough to understand `'MALE'` is the same as `'male'`.  You have to send it exactly `'male'` or `'female'`\n",
        "\n",
        "1. Your job is to write a function called **find_hospital()** that takes age, sex, and risk as parameters.\n",
        "2. Your function should call this REST web service using the `requests` module\n",
        "3. Then your function will need to interpret the JSON it gets and return just the name of the hospital\n",
        "4. If anything fails, return None\n",
        "5. Include a good docstring with at least three test cases.\n"
      ]
    },
    {
      "cell_type": "code",
      "execution_count": 87,
      "metadata": {
        "id": "y_1dMpeZCUnV"
      },
      "outputs": [],
      "source": [
        "import requests\n",
        "\n",
        "def find_hospital(age, sex, risk):\n",
        "    \"\"\"\n",
        "    (int, str, float) -> str\n",
        "\n",
        "    Find a hospital based on age, sex, and risk percentage using a REST web service.\n",
        "\n",
        "    >> find_hospital(40, 'male', 0.1)\n",
        "    Southwest Hospital and Medical Center\n",
        "\n",
        "    >> find_hospital(35, 'female', 0.05)\n",
        "    Select Specialty Hospital - Northeast Atlanta\n",
        "\n",
        "    >> find_hospital(50, 'male', 0.8)\n",
        "    Emory Dunwoody Medical Center\n",
        "\n",
        "    \"\"\"\n",
        "    base_url = \"https://oumdj6oci2.execute-api.us-east-1.amazonaws.com/prd/\"\n",
        "    params = {\n",
        "        'age': age,\n",
        "        'sex': sex,\n",
        "        'risk_pct': risk\n",
        "    }\n",
        "\n",
        "    try:\n",
        "        response = requests.get(base_url, params=params)\n",
        "        if response.status_code == 200:\n",
        "            hospital_name = response.json().get('hospital')\n",
        "            return hospital_name\n",
        "        else:\n",
        "            return None\n",
        "\n",
        "    except Exception as e:\n",
        "        print(f\"Error: {e}\")\n",
        "        return None"
      ]
    },
    {
      "cell_type": "code",
      "execution_count": 88,
      "metadata": {
        "colab": {
          "base_uri": "https://localhost:8080/"
        },
        "id": "7yxH3dqVCUnV",
        "outputId": "3325052a-cfc5-4c4f-a3a9-5a5b8418990d"
      },
      "outputs": [
        {
          "output_type": "stream",
          "name": "stdout",
          "text": [
            "Finding tests in NoName\n"
          ]
        }
      ],
      "source": [
        "import doctest\n",
        "doctest.run_docstring_examples(find_hospital, globals(),verbose=True)"
      ]
    },
    {
      "cell_type": "markdown",
      "metadata": {
        "id": "cXAhyvvHCUnV"
      },
      "source": [
        "## Part 3: Get the address for that hospital from a JSON file\n",
        "\n",
        "Great! Now we have code to tell us which hospital to send someone to... but we don't know where that hospital is. The next function we need to create is one that looks up the address of that hospital.  All of these hospitals are in Atlanta, Georgia.  We're going to use the list from this webpage to lookup the address for that hospital, based on its name.  https://www.officialusa.com/stateguides/health/hospitals/georgia.html\n",
        "\n",
        "Because we skipped the section about Beautiful Soup and working with HTML, I've converted this information into a JSON document for you.  It's available for you here.  Your code should retrieve this file using the `requests` module.\n",
        "\n",
        "`https://drive.google.com/uc?export=download&id=1fIFD-NkcdiMu941N4GjyMDWxiKsFJBw-`\n",
        "\n",
        "1. You need to create a function called **get_address()** that takes hospital name as a parameter and searches the data from this JSON file for the hospital you want to find.\n",
        "2. Your code will have to load the JSON and return the correct hospital based on name.\n",
        "3. If the hospital name isn't found, the function should return None.\n",
        "4. Be sure to use good docstring documentation and includes at least 3 test cases."
      ]
    },
    {
      "cell_type": "code",
      "execution_count": 89,
      "metadata": {
        "colab": {
          "base_uri": "https://localhost:8080/"
        },
        "id": "podQ7DZMCUnW",
        "outputId": "7c9a868d-9b96-47ea-a8b0-28601941d009"
      },
      "outputs": [
        {
          "output_type": "stream",
          "name": "stdout",
          "text": [
            "706 NORTH PARRISH AVENUE\n",
            "None\n",
            "2000 PALMYRA ROAD\n"
          ]
        }
      ],
      "source": [
        "import requests\n",
        "\n",
        "def get_hospital_address(hospital_name):\n",
        "    \"\"\"\n",
        "    (str) -> str\n",
        "\n",
        "    Get the address of a hospital based on its name from a JSON file.\n",
        "\n",
        "    >> get_address(\"COOK MEDICAL CENTER\"\n",
        "    706 NORTH PARRISH AVENUE\n",
        "\n",
        "    >> get_address(\"INVALID HOSPITAL\")\n",
        "    None\n",
        "\n",
        "    >> get_address(\"PHOEBE PUTNEY MEMORIAL HOSPITAL - NORTH CAMPUS\")\n",
        "    2000 PALMYRA ROAD\n",
        "    \"\"\"\n",
        "    url = \"https://drive.google.com/uc?export=download&id=1fIFD-NkcdiMu941N4GjyMDWxiKsFJBw-\"\n",
        "\n",
        "    try:\n",
        "        response = requests.get(url)\n",
        "        if response.status_code == 200:\n",
        "            hospital_data = response.json()\n",
        "            if hospital_name in hospital_data:\n",
        "                return hospital_data[hospital_name][\"ADDRESS\"]\n",
        "            else:\n",
        "                return None\n",
        "        else:\n",
        "            return None\n",
        "\n",
        "    except Exception as e:\n",
        "        print(f\"Exception message: {e}\")\n",
        "        return None\n",
        "\n",
        "# Test cases\n",
        "print(get_hospital_address(\"COOK MEDICAL CENTER\"))  # Test case with a valid hospital name\n",
        "print(get_hospital_address(\"INVALID HOSPITAL\"))  # Test case with an invalid hospital name\n",
        "print(get_hospital_address(\"PHOEBE PUTNEY MEMORIAL HOSPITAL - NORTH CAMPUS\"))  # Another valid test case\n"
      ]
    },
    {
      "cell_type": "markdown",
      "metadata": {
        "id": "2YqD6km3CUnW"
      },
      "source": [
        "## Part 4: Run the risk calculator on a population\n",
        "\n",
        "At the link below, there is a file called `people.psv`.  It is a pipe-delimited (`|`) file with columns that match the inputs for the PRIEST calculation above.  Your code should use the `requests` module to retrieve the file from this URL.\n",
        "\n",
        "`https://drive.google.com/uc?export=download&id=1fLxJN9YGUqmqExrilxSS8furwUER5HHh`\n",
        "\n",
        "\n",
        "In addition, the file has a patient identifier in the first column.\n",
        "\n",
        "1. Write a function called **process_people()** that takes the file location above as its only parameter. Your Python program should use your code above to process all of these rows, determine the hospital and address, and return a list whose items are a dictionary like this: `{ patient_number: [sex, age, breath, o2sat, heart, systolic, temp, alertness, inspired, status, hospital, address]}`.  Look at the file in Part 5 for what the output looks like.\n",
        "2. Be sure to use good docstrings, but you don't need any tests in your doc strings.  I've provided those for you withe file in Part 5.\n",
        "\n",
        "\n",
        "**NOTE** that when running your code for all the 100 records in the `people.psv` file, it may take a few minutes to complete.  You're making multiple calls to the internet for each record, so that can take a little while.\n"
      ]
    },
    {
      "cell_type": "code",
      "execution_count": 90,
      "metadata": {
        "id": "2XMDmnv8CUnW",
        "colab": {
          "base_uri": "https://localhost:8080/"
        },
        "outputId": "2011f2dd-6955-40b1-88eb-dccf880b0821"
      },
      "outputs": [
        {
          "output_type": "stream",
          "name": "stdout",
          "text": [
            "Skipping row 101 due to incorrect data format.\n",
            "{'E9559': {'sex': 'FEMALE', 'age': 40, 'breath': 24, 'oxygen_sat': 0.96, 'heart_rate': 105, 'systolic_bp': 115, 'temp': 34.9, 'alertness': 'ALERT', 'inspired': 'AIR', 'status': 'unrestricted normal activity', 'hospital_name': None, 'address': None}, 'E9385': {'sex': 'Female', 'age': 51, 'breath': 19, 'oxygen_sat': 0.99, 'heart_rate': 90, 'systolic_bp': 91, 'temp': 38.1, 'alertness': 'ALERT', 'inspired': 'supplemental oxygen', 'status': 'unrestricted normal activity', 'hospital_name': None, 'address': None}, 'E3067': {'sex': 'female', 'age': 40, 'breath': 29, 'oxygen_sat': 0.96, 'heart_rate': 105, 'systolic_bp': 95, 'temp': 38.1, 'alertness': 'ALERT', 'inspired': 'air', 'status': 'unrestricted normal activity', 'hospital_name': None, 'address': None}, 'E9422': {'sex': 'FEMALE', 'age': 66, 'breath': 19, 'oxygen_sat': 0.96, 'heart_rate': 135, 'systolic_bp': 115, 'temp': 38.1, 'alertness': 'ALERT', 'inspired': 'AIR', 'status': 'bed/chair bound, no self-care', 'hospital_name': None, 'address': None}, 'E8661': {'sex': 'MALE', 'age': 18, 'breath': 22, 'oxygen_sat': 0.95, 'heart_rate': 105, 'systolic_bp': 115, 'temp': 36.3, 'alertness': 'Confused or Not Alert', 'inspired': 'air', 'status': 'unrestricted normal activity', 'hospital_name': None, 'address': None}, 'E6235': {'sex': 'Male', 'age': 16, 'breath': 23, 'oxygen_sat': 0.96, 'heart_rate': 135, 'systolic_bp': 115, 'temp': 39.2, 'alertness': 'ALERT', 'inspired': 'supplemental oxygen', 'status': 'unrestricted normal activity', 'hospital_name': None, 'address': None}, 'E4451': {'sex': 'MALE', 'age': 40, 'breath': 8, 'oxygen_sat': 0.96, 'heart_rate': 135, 'systolic_bp': 115, 'temp': 38.1, 'alertness': 'ALERT', 'inspired': 'AIR', 'status': 'unrestricted normal activity', 'hospital_name': None, 'address': None}, 'E8433': {'sex': 'FEMALE', 'age': 40, 'breath': 23, 'oxygen_sat': 0.99, 'heart_rate': 89, 'systolic_bp': 91, 'temp': 38.1, 'alertness': 'ALERT', 'inspired': 'AIR', 'status': 'limited self-care', 'hospital_name': None, 'address': None}, 'E7593': {'sex': 'FEMALE', 'age': 80, 'breath': 23, 'oxygen_sat': 0.96, 'heart_rate': 105, 'systolic_bp': 115, 'temp': 38.1, 'alertness': 'ALERT', 'inspired': 'supplemental oxygen', 'status': 'limited activity, can self-care', 'hospital_name': None, 'address': None}, 'E3296': {'sex': 'MALE', 'age': 51, 'breath': 23, 'oxygen_sat': 0.95, 'heart_rate': 105, 'systolic_bp': 115, 'temp': 38.1, 'alertness': 'ALERT', 'inspired': 'AIR', 'status': 'unrestricted normal activity', 'hospital_name': None, 'address': None}, 'E4157': {'sex': 'FEMALE', 'age': 40, 'breath': 23, 'oxygen_sat': 0.96, 'heart_rate': 41, 'systolic_bp': 115, 'temp': 35.4, 'alertness': 'ALERT', 'inspired': 'AIR', 'status': 'unrestricted normal activity', 'hospital_name': None, 'address': None}, 'E7702': {'sex': 'FEMALE', 'age': 40, 'breath': 22, 'oxygen_sat': 0.96, 'heart_rate': 105, 'systolic_bp': 115, 'temp': 38.1, 'alertness': 'ALERT', 'inspired': 'supplemental oxygen', 'status': 'unrestricted normal activity', 'hospital_name': None, 'address': None}, 'E8158': {'sex': 'MALE', 'age': 40, 'breath': 20, 'oxygen_sat': 0.99, 'heart_rate': 135, 'systolic_bp': 115, 'temp': 39.2, 'alertness': 'ALERT', 'inspired': 'AIR', 'status': 'unrestricted normal activity', 'hospital_name': None, 'address': None}, 'E4795': {'sex': 'female', 'age': 80, 'breath': 11, 'oxygen_sat': 0.93, 'heart_rate': 105, 'systolic_bp': 95, 'temp': 40.8, 'alertness': 'ALERT', 'inspired': 'AIR', 'status': 'limited activity, can self-care', 'hospital_name': None, 'address': None}, 'E8800': {'sex': 'MALE', 'age': 80, 'breath': 22, 'oxygen_sat': 0.96, 'heart_rate': 105, 'systolic_bp': 115, 'temp': 39.2, 'alertness': 'confused or not alert', 'inspired': 'AIR', 'status': 'limited activity, can self-care', 'hospital_name': None, 'address': None}, 'E4855': {'sex': 'female', 'age': 51, 'breath': 23, 'oxygen_sat': 0.94, 'heart_rate': 135, 'systolic_bp': 115, 'temp': 38.1, 'alertness': 'ALERT', 'inspired': 'AIR', 'status': 'limited strenuous activity, can do light activity', 'hospital_name': None, 'address': None}, 'E9691': {'sex': 'Male', 'age': 16, 'breath': 10, 'oxygen_sat': 0.96, 'heart_rate': 105, 'systolic_bp': 115, 'temp': 38.1, 'alertness': 'ALERT', 'inspired': 'AIR', 'status': 'unrestricted normal activity', 'hospital_name': None, 'address': None}, 'E4535': {'sex': 'FEMALE', 'age': 19, 'breath': 11, 'oxygen_sat': 0.99, 'heart_rate': 105, 'systolic_bp': 115, 'temp': 35.4, 'alertness': 'ALERT', 'inspired': 'AIR', 'status': 'unrestricted normal activity', 'hospital_name': None, 'address': None}, 'E2360': {'sex': 'Male', 'age': 40, 'breath': 20, 'oxygen_sat': 0.96, 'heart_rate': 51, 'systolic_bp': 95, 'temp': 34.9, 'alertness': 'alert', 'inspired': 'supplemental oxygen', 'status': 'unrestricted normal activity', 'hospital_name': None, 'address': None}, 'E3447': {'sex': 'MALE', 'age': 80, 'breath': 22, 'oxygen_sat': 0.96, 'heart_rate': 41, 'systolic_bp': 115, 'temp': 38.1, 'alertness': 'ALERT', 'inspired': 'AIR', 'status': 'limited activity, can self-care', 'hospital_name': None, 'address': None}, 'E8208': {'sex': 'FEMALE', 'age': 18, 'breath': 23, 'oxygen_sat': 0.96, 'heart_rate': 135, 'systolic_bp': 115, 'temp': 38.1, 'alertness': 'ALERT', 'inspired': 'AIR', 'status': 'unrestricted normal activity', 'hospital_name': None, 'address': None}, 'E4428': {'sex': 'FEMALE', 'age': 40, 'breath': 23, 'oxygen_sat': 0.96, 'heart_rate': 38, 'systolic_bp': 115, 'temp': 36.3, 'alertness': 'ALERT', 'inspired': 'AIR', 'status': 'unrestricted normal activity', 'hospital_name': None, 'address': None}, 'E2766': {'sex': 'Male', 'age': 18, 'breath': 23, 'oxygen_sat': 0.96, 'heart_rate': 105, 'systolic_bp': 115, 'temp': 34.9, 'alertness': 'ALERT', 'inspired': 'AIR', 'status': 'unrestricted normal activity', 'hospital_name': None, 'address': None}, 'E3888': {'sex': 'FEMALE', 'age': 51, 'breath': 19, 'oxygen_sat': 0.96, 'heart_rate': 135, 'systolic_bp': 115, 'temp': 34.9, 'alertness': 'ALERT', 'inspired': 'AIR', 'status': 'unrestricted normal activity', 'hospital_name': None, 'address': None}, 'E7110': {'sex': 'female', 'age': 85, 'breath': 24, 'oxygen_sat': 0.99, 'heart_rate': 105, 'systolic_bp': 101, 'temp': 40.8, 'alertness': 'Confused or Not Alert', 'inspired': 'AIR', 'status': 'unrestricted normal activity', 'hospital_name': None, 'address': None}, 'E2668': {'sex': 'FEMALE', 'age': 18, 'breath': 22, 'oxygen_sat': 0.96, 'heart_rate': 105, 'systolic_bp': 101, 'temp': 38.1, 'alertness': 'ALERT', 'inspired': 'AIR', 'status': 'unrestricted normal activity', 'hospital_name': None, 'address': None}, 'E8482': {'sex': 'Male', 'age': 40, 'breath': 22, 'oxygen_sat': 0.96, 'heart_rate': 105, 'systolic_bp': 230, 'temp': 36.3, 'alertness': 'ALERT', 'inspired': 'AIR', 'status': 'limited self-care', 'hospital_name': None, 'address': None}, 'E9619': {'sex': 'FEMALE', 'age': 40, 'breath': 11, 'oxygen_sat': 0.98, 'heart_rate': 41, 'systolic_bp': 115, 'temp': 38.1, 'alertness': 'ALERT', 'inspired': 'AIR', 'status': 'unrestricted normal activity', 'hospital_name': None, 'address': None}, 'E1700': {'sex': 'male', 'age': 40, 'breath': 23, 'oxygen_sat': 0.96, 'heart_rate': 105, 'systolic_bp': 115, 'temp': 38.1, 'alertness': 'Confused or Not Alert', 'inspired': 'AIR', 'status': 'unrestricted normal activity', 'hospital_name': None, 'address': None}, 'E8585': {'sex': 'MALE', 'age': 19, 'breath': 8, 'oxygen_sat': 0.96, 'heart_rate': 105, 'systolic_bp': 115, 'temp': 36.3, 'alertness': 'alert', 'inspired': 'AIR', 'status': 'bed/chair bound, no self-care', 'hospital_name': None, 'address': None}, 'E8633': {'sex': 'FEMALE', 'age': 40, 'breath': 22, 'oxygen_sat': 0.96, 'heart_rate': 38, 'systolic_bp': 91, 'temp': 35.4, 'alertness': 'ALERT', 'inspired': 'AIR', 'status': 'unrestricted normal activity', 'hospital_name': None, 'address': None}, 'E2117': {'sex': 'FEMALE', 'age': 16, 'breath': 22, 'oxygen_sat': 0.96, 'heart_rate': 135, 'systolic_bp': 115, 'temp': 39.2, 'alertness': 'Confused or Not Alert', 'inspired': 'supplemental oxygen', 'status': 'bed/chair bound, no self-care', 'hospital_name': None, 'address': None}, 'E2322': {'sex': 'female', 'age': 18, 'breath': 22, 'oxygen_sat': 0.96, 'heart_rate': 105, 'systolic_bp': 115, 'temp': 38.1, 'alertness': 'alert', 'inspired': 'supplemental oxygen', 'status': 'unrestricted normal activity', 'hospital_name': None, 'address': None}, 'E6912': {'sex': 'FEMALE', 'age': 51, 'breath': 23, 'oxygen_sat': 0.96, 'heart_rate': 105, 'systolic_bp': 95, 'temp': 34.9, 'alertness': 'ALERT', 'inspired': 'AIR', 'status': 'unrestricted normal activity', 'hospital_name': None, 'address': None}, 'E5702': {'sex': 'Male', 'age': 80, 'breath': 23, 'oxygen_sat': 0.96, 'heart_rate': 135, 'systolic_bp': 115, 'temp': 38.1, 'alertness': 'ALERT', 'inspired': 'AIR', 'status': 'unrestricted normal activity', 'hospital_name': None, 'address': None}, 'E5513': {'sex': 'FEMALE', 'age': 18, 'breath': 12, 'oxygen_sat': 0.96, 'heart_rate': 105, 'systolic_bp': 115, 'temp': 38.1, 'alertness': 'ALERT', 'inspired': 'AIR', 'status': 'unrestricted normal activity', 'hospital_name': None, 'address': None}, 'E1861': {'sex': 'FEMALE', 'age': 18, 'breath': 22, 'oxygen_sat': 0.96, 'heart_rate': 105, 'systolic_bp': 230, 'temp': 38.1, 'alertness': 'ALERT', 'inspired': 'AIR', 'status': 'limited strenuous activity, can do light activity', 'hospital_name': None, 'address': None}, 'E4809': {'sex': 'FEMALE', 'age': 40, 'breath': 22, 'oxygen_sat': 0.96, 'heart_rate': 41, 'systolic_bp': 230, 'temp': 38.1, 'alertness': 'ALERT', 'inspired': 'AIR', 'status': 'unrestricted normal activity', 'hospital_name': None, 'address': None}, 'E1365': {'sex': 'MALE', 'age': 22, 'breath': 22, 'oxygen_sat': 0.96, 'heart_rate': 115, 'systolic_bp': 101, 'temp': 35.4, 'alertness': 'ALERT', 'inspired': 'AIR', 'status': 'bed/chair bound, no self-care', 'hospital_name': None, 'address': None}, 'E5984': {'sex': 'Male', 'age': 40, 'breath': 12, 'oxygen_sat': 0.93, 'heart_rate': 105, 'systolic_bp': 91, 'temp': 35.1, 'alertness': 'ALERT', 'inspired': 'AIR', 'status': 'limited activity, can self-care', 'hospital_name': None, 'address': None}, 'E7013': {'sex': 'FEMALE', 'age': 66, 'breath': 23, 'oxygen_sat': 0.96, 'heart_rate': 135, 'systolic_bp': 89, 'temp': 40.8, 'alertness': 'ALERT', 'inspired': 'supplemental oxygen', 'status': 'unrestricted normal activity', 'hospital_name': None, 'address': None}, 'E2331': {'sex': 'female', 'age': 18, 'breath': 23, 'oxygen_sat': 0.98, 'heart_rate': 105, 'systolic_bp': 115, 'temp': 38.1, 'alertness': 'ALERT', 'inspired': 'AIR', 'status': 'limited self-care', 'hospital_name': None, 'address': None}, 'E9938': {'sex': 'MALE', 'age': 18, 'breath': 12, 'oxygen_sat': 0.96, 'heart_rate': 105, 'systolic_bp': 89, 'temp': 35.1, 'alertness': 'ALERT', 'inspired': 'AIR', 'status': 'unrestricted normal activity', 'hospital_name': None, 'address': None}, 'E5121': {'sex': 'Female', 'age': 18, 'breath': 23, 'oxygen_sat': 0.96, 'heart_rate': 41, 'systolic_bp': 95, 'temp': 38.1, 'alertness': 'ALERT', 'inspired': 'supplemental oxygen', 'status': 'limited activity, can self-care', 'hospital_name': None, 'address': None}, 'E9280': {'sex': 'male', 'age': 65, 'breath': 10, 'oxygen_sat': 0.96, 'heart_rate': 135, 'systolic_bp': 91, 'temp': 38.1, 'alertness': 'ALERT', 'inspired': 'AIR', 'status': 'unrestricted normal activity', 'hospital_name': None, 'address': None}, 'E4762': {'sex': 'FEMALE', 'age': 40, 'breath': 12, 'oxygen_sat': 0.98, 'heart_rate': 105, 'systolic_bp': 95, 'temp': 38.1, 'alertness': 'ALERT', 'inspired': 'AIR', 'status': 'unrestricted normal activity', 'hospital_name': None, 'address': None}, 'E6885': {'sex': 'MALE', 'age': 18, 'breath': 23, 'oxygen_sat': 0.93, 'heart_rate': 89, 'systolic_bp': 115, 'temp': 35.1, 'alertness': 'confused or not alert', 'inspired': 'AIR', 'status': 'limited activity, can self-care', 'hospital_name': None, 'address': None}, 'E1695': {'sex': 'FEMALE', 'age': 40, 'breath': 22, 'oxygen_sat': 0.96, 'heart_rate': 41, 'systolic_bp': 115, 'temp': 38.1, 'alertness': 'ALERT', 'inspired': 'AIR', 'status': 'unrestricted normal activity', 'hospital_name': None, 'address': None}, 'E9658': {'sex': 'Female', 'age': 18, 'breath': 10, 'oxygen_sat': 0.96, 'heart_rate': 90, 'systolic_bp': 230, 'temp': 38.1, 'alertness': 'ALERT', 'inspired': 'AIR', 'status': 'limited self-care', 'hospital_name': None, 'address': None}, 'E1961': {'sex': 'FEMALE', 'age': 65, 'breath': 23, 'oxygen_sat': 0.96, 'heart_rate': 105, 'systolic_bp': 115, 'temp': 40.8, 'alertness': 'ALERT', 'inspired': 'AIR', 'status': 'limited activity, can self-care', 'hospital_name': None, 'address': None}, 'E9154': {'sex': 'FEMALE', 'age': 66, 'breath': 8, 'oxygen_sat': 0.94, 'heart_rate': 105, 'systolic_bp': 89, 'temp': 35.4, 'alertness': 'alert', 'inspired': 'AIR', 'status': 'bed/chair bound, no self-care', 'hospital_name': None, 'address': None}, 'E9417': {'sex': 'FEMALE', 'age': 40, 'breath': 23, 'oxygen_sat': 0.96, 'heart_rate': 105, 'systolic_bp': 95, 'temp': 38.1, 'alertness': 'alert', 'inspired': 'AIR', 'status': 'unrestricted normal activity', 'hospital_name': None, 'address': None}, 'E9979': {'sex': 'Male', 'age': 18, 'breath': 8, 'oxygen_sat': 0.96, 'heart_rate': 105, 'systolic_bp': 115, 'temp': 38.1, 'alertness': 'ALERT', 'inspired': 'AIR', 'status': 'limited strenuous activity, can do light activity', 'hospital_name': None, 'address': None}, 'E9316': {'sex': 'MALE', 'age': 18, 'breath': 23, 'oxygen_sat': 0.96, 'heart_rate': 135, 'systolic_bp': 115, 'temp': 38.1, 'alertness': 'ALERT', 'inspired': 'AIR', 'status': 'unrestricted normal activity', 'hospital_name': None, 'address': None}, 'E8146': {'sex': 'Male', 'age': 18, 'breath': 12, 'oxygen_sat': 0.96, 'heart_rate': 115, 'systolic_bp': 115, 'temp': 38.1, 'alertness': 'ALERT', 'inspired': 'AIR', 'status': 'unrestricted normal activity', 'hospital_name': None, 'address': None}, 'E3093': {'sex': 'female', 'age': 40, 'breath': 29, 'oxygen_sat': 0.96, 'heart_rate': 105, 'systolic_bp': 95, 'temp': 38.1, 'alertness': 'ALERT', 'inspired': 'AIR', 'status': 'unrestricted normal activity', 'hospital_name': None, 'address': None}, 'E8829': {'sex': 'male', 'age': 65, 'breath': 12, 'oxygen_sat': 0.96, 'heart_rate': 51, 'systolic_bp': 230, 'temp': 38.1, 'alertness': 'alert', 'inspired': 'AIR', 'status': 'unrestricted normal activity', 'hospital_name': None, 'address': None}, 'E1453': {'sex': 'male', 'age': 18, 'breath': 24, 'oxygen_sat': 0.99, 'heart_rate': 105, 'systolic_bp': 115, 'temp': 38.1, 'alertness': 'ALERT', 'inspired': 'AIR', 'status': 'unrestricted normal activity', 'hospital_name': None, 'address': None}, 'E5777': {'sex': 'female', 'age': 66, 'breath': 23, 'oxygen_sat': 0.96, 'heart_rate': 115, 'systolic_bp': 89, 'temp': 38.1, 'alertness': 'ALERT', 'inspired': 'AIR', 'status': 'limited strenuous activity, can do light activity', 'hospital_name': None, 'address': None}, 'E4564': {'sex': 'FEMALE', 'age': 18, 'breath': 24, 'oxygen_sat': 0.96, 'heart_rate': 41, 'systolic_bp': 115, 'temp': 35.1, 'alertness': 'confused or not alert', 'inspired': 'AIR', 'status': 'unrestricted normal activity', 'hospital_name': None, 'address': None}, 'E1904': {'sex': 'FEMALE', 'age': 40, 'breath': 22, 'oxygen_sat': 0.93, 'heart_rate': 38, 'systolic_bp': 95, 'temp': 38.1, 'alertness': 'Confused or Not Alert', 'inspired': 'AIR', 'status': 'unrestricted normal activity', 'hospital_name': None, 'address': None}, 'E8746': {'sex': 'Female', 'age': 40, 'breath': 12, 'oxygen_sat': 0.93, 'heart_rate': 105, 'systolic_bp': 115, 'temp': 38.1, 'alertness': 'ALERT', 'inspired': 'AIR', 'status': 'unrestricted normal activity', 'hospital_name': None, 'address': None}, 'E9165': {'sex': 'FEMALE', 'age': 19, 'breath': 22, 'oxygen_sat': 0.98, 'heart_rate': 50, 'systolic_bp': 95, 'temp': 38.1, 'alertness': 'ALERT', 'inspired': 'AIR', 'status': 'limited activity, can self-care', 'hospital_name': None, 'address': None}, 'E9305': {'sex': 'FEMALE', 'age': 40, 'breath': 8, 'oxygen_sat': 0.89, 'heart_rate': 105, 'systolic_bp': 101, 'temp': 38.1, 'alertness': 'ALERT', 'inspired': 'supplemental oxygen', 'status': 'unrestricted normal activity', 'hospital_name': None, 'address': None}, 'E3217': {'sex': 'Female', 'age': 40, 'breath': 10, 'oxygen_sat': 0.95, 'heart_rate': 105, 'systolic_bp': 95, 'temp': 38.1, 'alertness': 'ALERT', 'inspired': 'AIR', 'status': 'unrestricted normal activity', 'hospital_name': None, 'address': None}, 'E3127': {'sex': 'Female', 'age': 40, 'breath': 8, 'oxygen_sat': 0.96, 'heart_rate': 38, 'systolic_bp': 115, 'temp': 36.3, 'alertness': 'ALERT', 'inspired': 'AIR', 'status': 'limited strenuous activity, can do light activity', 'hospital_name': None, 'address': None}, 'E7501': {'sex': 'female', 'age': 18, 'breath': 23, 'oxygen_sat': 0.96, 'heart_rate': 135, 'systolic_bp': 115, 'temp': 38.1, 'alertness': 'ALERT', 'inspired': 'AIR', 'status': 'unrestricted normal activity', 'hospital_name': None, 'address': None}, 'E4997': {'sex': 'female', 'age': 40, 'breath': 23, 'oxygen_sat': 0.94, 'heart_rate': 105, 'systolic_bp': 115, 'temp': 36.3, 'alertness': 'ALERT', 'inspired': 'AIR', 'status': 'unrestricted normal activity', 'hospital_name': None, 'address': None}, 'E6181': {'sex': 'female', 'age': 19, 'breath': 23, 'oxygen_sat': 0.96, 'heart_rate': 89, 'systolic_bp': 115, 'temp': 38.1, 'alertness': 'ALERT', 'inspired': 'AIR', 'status': 'unrestricted normal activity', 'hospital_name': None, 'address': None}, 'E1073': {'sex': 'FEMALE', 'age': 18, 'breath': 24, 'oxygen_sat': 0.95, 'heart_rate': 50, 'systolic_bp': 115, 'temp': 38.1, 'alertness': 'Confused or Not Alert', 'inspired': 'AIR', 'status': 'limited self-care', 'hospital_name': None, 'address': None}, 'E9608': {'sex': 'female', 'age': 80, 'breath': 12, 'oxygen_sat': 0.96, 'heart_rate': 50, 'systolic_bp': 89, 'temp': 38.1, 'alertness': 'ALERT', 'inspired': 'AIR', 'status': 'unrestricted normal activity', 'hospital_name': None, 'address': None}, 'E7663': {'sex': 'FEMALE', 'age': 18, 'breath': 11, 'oxygen_sat': 0.96, 'heart_rate': 105, 'systolic_bp': 115, 'temp': 38.1, 'alertness': 'ALERT', 'inspired': 'air', 'status': 'limited self-care', 'hospital_name': None, 'address': None}, 'E7648': {'sex': 'female', 'age': 66, 'breath': 12, 'oxygen_sat': 0.98, 'heart_rate': 41, 'systolic_bp': 115, 'temp': 34.9, 'alertness': 'ALERT', 'inspired': 'air', 'status': 'unrestricted normal activity', 'hospital_name': None, 'address': None}, 'E1883': {'sex': 'male', 'age': 40, 'breath': 10, 'oxygen_sat': 0.98, 'heart_rate': 105, 'systolic_bp': 115, 'temp': 38.1, 'alertness': 'ALERT', 'inspired': 'AIR', 'status': 'unrestricted normal activity', 'hospital_name': None, 'address': None}, 'E2001': {'sex': 'FEMALE', 'age': 18, 'breath': 12, 'oxygen_sat': 0.99, 'heart_rate': 51, 'systolic_bp': 115, 'temp': 38.1, 'alertness': 'Confused or Not Alert', 'inspired': 'AIR', 'status': 'unrestricted normal activity', 'hospital_name': None, 'address': None}, 'E2418': {'sex': 'male', 'age': 18, 'breath': 20, 'oxygen_sat': 0.94, 'heart_rate': 105, 'systolic_bp': 115, 'temp': 35.4, 'alertness': 'ALERT', 'inspired': 'air', 'status': 'unrestricted normal activity', 'hospital_name': None, 'address': None}, 'E3739': {'sex': 'Male', 'age': 85, 'breath': 10, 'oxygen_sat': 0.96, 'heart_rate': 105, 'systolic_bp': 115, 'temp': 38.1, 'alertness': 'Confused or Not Alert', 'inspired': 'supplemental oxygen', 'status': 'unrestricted normal activity', 'hospital_name': None, 'address': None}, 'E8351': {'sex': 'FEMALE', 'age': 40, 'breath': 23, 'oxygen_sat': 0.96, 'heart_rate': 90, 'systolic_bp': 101, 'temp': 38.1, 'alertness': 'ALERT', 'inspired': 'AIR', 'status': 'unrestricted normal activity', 'hospital_name': None, 'address': None}, 'E2882': {'sex': 'Male', 'age': 51, 'breath': 24, 'oxygen_sat': 0.98, 'heart_rate': 105, 'systolic_bp': 91, 'temp': 38.1, 'alertness': 'ALERT', 'inspired': 'AIR', 'status': 'unrestricted normal activity', 'hospital_name': None, 'address': None}, 'E1902': {'sex': 'Female', 'age': 85, 'breath': 22, 'oxygen_sat': 0.96, 'heart_rate': 105, 'systolic_bp': 115, 'temp': 38.1, 'alertness': 'ALERT', 'inspired': 'supplemental oxygen', 'status': 'unrestricted normal activity', 'hospital_name': None, 'address': None}, 'E2155': {'sex': 'Male', 'age': 18, 'breath': 22, 'oxygen_sat': 0.94, 'heart_rate': 105, 'systolic_bp': 115, 'temp': 38.1, 'alertness': 'ALERT', 'inspired': 'air', 'status': 'limited self-care', 'hospital_name': None, 'address': None}, 'E4345': {'sex': 'Female', 'age': 40, 'breath': 19, 'oxygen_sat': 0.89, 'heart_rate': 41, 'systolic_bp': 115, 'temp': 34.9, 'alertness': 'ALERT', 'inspired': 'air', 'status': 'unrestricted normal activity', 'hospital_name': None, 'address': None}, 'E4194': {'sex': 'FEMALE', 'age': 40, 'breath': 12, 'oxygen_sat': 0.95, 'heart_rate': 105, 'systolic_bp': 91, 'temp': 38.1, 'alertness': 'ALERT', 'inspired': 'AIR', 'status': 'limited self-care', 'hospital_name': None, 'address': None}, 'E5211': {'sex': 'male', 'age': 65, 'breath': 22, 'oxygen_sat': 0.96, 'heart_rate': 41, 'systolic_bp': 115, 'temp': 38.1, 'alertness': 'ALERT', 'inspired': 'AIR', 'status': 'unrestricted normal activity', 'hospital_name': None, 'address': None}, 'E5488': {'sex': 'Female', 'age': 40, 'breath': 12, 'oxygen_sat': 0.94, 'heart_rate': 105, 'systolic_bp': 101, 'temp': 38.1, 'alertness': 'ALERT', 'inspired': 'AIR', 'status': 'unrestricted normal activity', 'hospital_name': None, 'address': None}, 'E8560': {'sex': 'FEMALE', 'age': 40, 'breath': 23, 'oxygen_sat': 0.96, 'heart_rate': 41, 'systolic_bp': 115, 'temp': 35.1, 'alertness': 'confused or not alert', 'inspired': 'AIR', 'status': 'unrestricted normal activity', 'hospital_name': None, 'address': None}, 'E2995': {'sex': 'FEMALE', 'age': 18, 'breath': 20, 'oxygen_sat': 0.99, 'heart_rate': 105, 'systolic_bp': 95, 'temp': 35.1, 'alertness': 'alert', 'inspired': 'AIR', 'status': 'unrestricted normal activity', 'hospital_name': None, 'address': None}, 'E3422': {'sex': 'FEMALE', 'age': 40, 'breath': 8, 'oxygen_sat': 0.96, 'heart_rate': 105, 'systolic_bp': 115, 'temp': 35.4, 'alertness': 'ALERT', 'inspired': 'AIR', 'status': 'unrestricted normal activity', 'hospital_name': None, 'address': None}, 'E7707': {'sex': 'Female', 'age': 18, 'breath': 20, 'oxygen_sat': 0.96, 'heart_rate': 38, 'systolic_bp': 115, 'temp': 36.3, 'alertness': 'ALERT', 'inspired': 'air', 'status': 'limited strenuous activity, can do light activity', 'hospital_name': None, 'address': None}, 'E3119': {'sex': 'FEMALE', 'age': 18, 'breath': 20, 'oxygen_sat': 0.99, 'heart_rate': 135, 'systolic_bp': 89, 'temp': 35.1, 'alertness': 'ALERT', 'inspired': 'supplemental oxygen', 'status': 'unrestricted normal activity', 'hospital_name': None, 'address': None}, 'E1419': {'sex': 'male', 'age': 65, 'breath': 23, 'oxygen_sat': 0.99, 'heart_rate': 105, 'systolic_bp': 91, 'temp': 38.1, 'alertness': 'alert', 'inspired': 'AIR', 'status': 'unrestricted normal activity', 'hospital_name': None, 'address': None}, 'E7748': {'sex': 'male', 'age': 40, 'breath': 23, 'oxygen_sat': 0.93, 'heart_rate': 105, 'systolic_bp': 115, 'temp': 38.1, 'alertness': 'ALERT', 'inspired': 'supplemental oxygen', 'status': 'unrestricted normal activity', 'hospital_name': None, 'address': None}, 'E7251': {'sex': 'Female', 'age': 40, 'breath': 12, 'oxygen_sat': 0.96, 'heart_rate': 105, 'systolic_bp': 91, 'temp': 38.1, 'alertness': 'alert', 'inspired': 'AIR', 'status': 'unrestricted normal activity', 'hospital_name': None, 'address': None}, 'E1235': {'sex': 'FEMALE', 'age': 40, 'breath': 29, 'oxygen_sat': 0.96, 'heart_rate': 41, 'systolic_bp': 115, 'temp': 38.1, 'alertness': 'ALERT', 'inspired': 'AIR', 'status': 'bed/chair bound, no self-care', 'hospital_name': None, 'address': None}, 'E5361': {'sex': 'FEMALE', 'age': 18, 'breath': 22, 'oxygen_sat': 0.93, 'heart_rate': 90, 'systolic_bp': 101, 'temp': 38.1, 'alertness': 'confused or not alert', 'inspired': 'AIR', 'status': 'unrestricted normal activity', 'hospital_name': None, 'address': None}, 'E7130': {'sex': 'FEMALE', 'age': 18, 'breath': 22, 'oxygen_sat': 0.96, 'heart_rate': 50, 'systolic_bp': 115, 'temp': 38.1, 'alertness': 'ALERT', 'inspired': 'AIR', 'status': 'limited strenuous activity, can do light activity', 'hospital_name': None, 'address': None}, 'E5665': {'sex': 'FEMALE', 'age': 85, 'breath': 23, 'oxygen_sat': 0.96, 'heart_rate': 115, 'systolic_bp': 115, 'temp': 38.1, 'alertness': 'ALERT', 'inspired': 'AIR', 'status': 'unrestricted normal activity', 'hospital_name': None, 'address': None}, 'E9957': {'sex': 'Female', 'age': 40, 'breath': 22, 'oxygen_sat': 0.98, 'heart_rate': 89, 'systolic_bp': 230, 'temp': 38.1, 'alertness': 'alert', 'inspired': 'AIR', 'status': 'unrestricted normal activity', 'hospital_name': None, 'address': None}, 'E10000': {'sex': 'FEMALE', 'age': 18, 'breath': 23, 'oxygen_sat': 0.96, 'heart_rate': 105, 'systolic_bp': 101, 'temp': 38.1, 'alertness': 'ALERT', 'inspired': 'AIR', 'status': 'limited activity, can self-care', 'hospital_name': None, 'address': None}}\n"
          ]
        }
      ],
      "source": [
        "import requests\n",
        "\n",
        "def process_patients(file_path):\n",
        "    \"\"\"\n",
        "    Process patient data from a pipe-delimited file, calculate PRIEST scores, determine hospital_names, and get addresses.\n",
        "\n",
        "    Args:\n",
        "        file_location (str): URL of the pipe-delimited file containing patient data.\n",
        "\n",
        "    Returns:\n",
        "        dict: Dictionary with patient numbers as keys and their information, hospital_name, and address as values.\n",
        "    \"\"\"\n",
        "    response = requests.get(file_path)\n",
        "\n",
        "    if response.status_code == 200:\n",
        "        data = response.text.split('\\n')\n",
        "        processed_data = {}\n",
        "        for id, row in enumerate(data):\n",
        "            # Skip the header row\n",
        "            if id == 0:\n",
        "                continue\n",
        "\n",
        "            columns = row.strip().split('|')\n",
        "\n",
        "            if len(columns) != 11:\n",
        "                print(f\"Skipping row {id + 1} due to incorrect data format.\")\n",
        "                continue\n",
        "\n",
        "            patient_number, sex, age, breath, oxygen_sat, heart_rate, systolic_bp, temp, alertness, inspired, status = columns\n",
        "\n",
        "            # Convert numerical columns to appropriate data types\n",
        "            age = int(age)\n",
        "            breath = int(breath)\n",
        "            oxygen_sat = float(oxygen_sat)\n",
        "            heart_rate = int(heart_rate)\n",
        "            systolic_bp = int(systolic_bp)\n",
        "            temp = float(temp)\n",
        "\n",
        "            risk = calculate_priest_prob(sex, age, breath, oxygen_sat, heart_rate, systolic_bp, temp, alertness, inspired, status)\n",
        "\n",
        "            hospital_name = find_hospital_name(age, sex.lower(), risk)\n",
        "            address = get_hospital_address(hospital_name) if hospital_name else None\n",
        "\n",
        "            patient_info = {\n",
        "                \"sex\": sex,\n",
        "                \"age\": age,\n",
        "                \"breath\": breath,\n",
        "                \"oxygen_sat\": oxygen_sat,\n",
        "                \"heart_rate\": heart_rate,\n",
        "                \"systolic_bp\": systolic_bp,\n",
        "                \"temp\": temp,\n",
        "                \"alertness\": alertness,\n",
        "                \"inspired\": inspired,\n",
        "                \"status\": status,\n",
        "                \"hospital_name\": hospital_name,\n",
        "                \"address\": address\n",
        "            }\n",
        "            processed_data[patient_number] = patient_info\n",
        "\n",
        "        return processed_data\n",
        "    else:\n",
        "        return None\n",
        "\n",
        "file_path = \"https://drive.google.com/uc?export=download&id=1fLxJN9YGUqmqExrilxSS8furwUER5HHh\"\n",
        "processed_data = process_patients(file_path)\n",
        "print(processed_data)"
      ]
    },
    {
      "cell_type": "markdown",
      "metadata": {
        "id": "6dNFNIr-CUnW"
      },
      "source": [
        "## Part 5: Checking your final results\n",
        "\n",
        "The final step is to check your results.  You should be able to compare your results to the output in `people_results.json` at the link below.  Write some code to check your results.  This does not need to be a function.\n",
        "\n",
        "`https://drive.google.com/uc?export=download&id=1gx1SSC20mO5XL6uYD0mdcM_cL91fcIW5`\n"
      ]
    },
    {
      "cell_type": "code",
      "execution_count": 91,
      "metadata": {
        "id": "CHgEZlATCUnW",
        "colab": {
          "base_uri": "https://localhost:8080/"
        },
        "outputId": "56795d7d-f1c1-4cda-fbb6-cd293d17b186"
      },
      "outputs": [
        {
          "output_type": "stream",
          "name": "stdout",
          "text": [
            "Skipping row 101 due to incorrect data format.\n",
            "Patient E9559: processed data matched the expected results.\n",
            "Patient E9385: processed data matched the expected results.\n",
            "Patient E3067: processed data matched the expected results.\n",
            "Patient E9422: processed data matched the expected results.\n",
            "Patient E8661: processed data matched the expected results.\n",
            "Patient E6235: processed data matched the expected results.\n",
            "Patient E4451: processed data matched the expected results.\n",
            "Patient E8433: processed data matched the expected results.\n",
            "Patient E7593: processed data matched the expected results.\n",
            "Patient E3296: processed data matched the expected results.\n",
            "Patient E4157: processed data matched the expected results.\n",
            "Patient E7702: processed data matched the expected results.\n",
            "Patient E8158: processed data matched the expected results.\n",
            "Patient E4795: processed data matched the expected results.\n",
            "Patient E8800: processed data matched the expected results.\n",
            "Patient E4855: processed data matched the expected results.\n",
            "Patient E9691: processed data matched the expected results.\n",
            "Patient E4535: processed data matched the expected results.\n",
            "Patient E2360: processed data matched the expected results.\n",
            "Patient E3447: processed data matched the expected results.\n",
            "Patient E8208: processed data matched the expected results.\n",
            "Patient E4428: processed data matched the expected results.\n",
            "Patient E2766: processed data matched the expected results.\n",
            "Patient E3888: processed data matched the expected results.\n",
            "Patient E7110: processed data matched the expected results.\n",
            "Patient E2668: processed data matched the expected results.\n",
            "Patient E8482: processed data matched the expected results.\n",
            "Patient E9619: processed data matched the expected results.\n",
            "Patient E1700: processed data matched the expected results.\n",
            "Patient E8585: processed data matched the expected results.\n",
            "Patient E8633: processed data matched the expected results.\n",
            "Patient E2117: processed data matched the expected results.\n",
            "Patient E2322: processed data matched the expected results.\n",
            "Patient E6912: processed data matched the expected results.\n",
            "Patient E5702: processed data matched the expected results.\n",
            "Patient E5513: processed data matched the expected results.\n",
            "Patient E1861: processed data matched the expected results.\n",
            "Patient E4809: processed data matched the expected results.\n",
            "Patient E1365: processed data matched the expected results.\n",
            "Patient E5984: processed data matched the expected results.\n",
            "Patient E7013: processed data matched the expected results.\n",
            "Patient E2331: processed data matched the expected results.\n",
            "Patient E9938: processed data matched the expected results.\n",
            "Patient E5121: processed data matched the expected results.\n",
            "Patient E9280: processed data matched the expected results.\n",
            "Patient E4762: processed data matched the expected results.\n",
            "Patient E6885: processed data matched the expected results.\n",
            "Patient E1695: processed data matched the expected results.\n",
            "Patient E9658: processed data matched the expected results.\n",
            "Patient E1961: processed data matched the expected results.\n",
            "Patient E9154: processed data matched the expected results.\n",
            "Patient E9417: processed data matched the expected results.\n",
            "Patient E9979: processed data matched the expected results.\n",
            "Patient E9316: processed data matched the expected results.\n",
            "Patient E8146: processed data matched the expected results.\n",
            "Patient E3093: processed data matched the expected results.\n",
            "Patient E8829: processed data matched the expected results.\n",
            "Patient E1453: processed data matched the expected results.\n",
            "Patient E5777: processed data matched the expected results.\n",
            "Patient E4564: processed data matched the expected results.\n",
            "Patient E1904: processed data matched the expected results.\n",
            "Patient E8746: processed data matched the expected results.\n",
            "Patient E9165: processed data matched the expected results.\n",
            "Patient E9305: processed data matched the expected results.\n",
            "Patient E3217: processed data matched the expected results.\n",
            "Patient E3127: processed data matched the expected results.\n",
            "Patient E7501: processed data matched the expected results.\n",
            "Patient E4997: processed data matched the expected results.\n",
            "Patient E6181: processed data matched the expected results.\n",
            "Patient E1073: processed data matched the expected results.\n",
            "Patient E9608: processed data matched the expected results.\n",
            "Patient E7663: processed data matched the expected results.\n",
            "Patient E7648: processed data matched the expected results.\n",
            "Patient E1883: processed data matched the expected results.\n",
            "Patient E2001: processed data matched the expected results.\n",
            "Patient E2418: processed data matched the expected results.\n",
            "Patient E3739: processed data matched the expected results.\n",
            "Patient E8351: processed data matched the expected results.\n",
            "Patient E2882: processed data matched the expected results.\n",
            "Patient E1902: processed data matched the expected results.\n",
            "Patient E2155: processed data matched the expected results.\n",
            "Patient E4345: processed data matched the expected results.\n",
            "Patient E4194: processed data matched the expected results.\n",
            "Patient E5211: processed data matched the expected results.\n",
            "Patient E5488: processed data matched the expected results.\n",
            "Patient E8560: processed data matched the expected results.\n",
            "Patient E2995: processed data matched the expected results.\n",
            "Patient E3422: processed data matched the expected results.\n",
            "Patient E7707: processed data matched the expected results.\n",
            "Patient E3119: processed data matched the expected results.\n",
            "Patient E1419: processed data matched the expected results.\n",
            "Patient E7748: processed data matched the expected results.\n",
            "Patient E7251: processed data matched the expected results.\n",
            "Patient E1235: processed data matched the expected results.\n",
            "Patient E5361: processed data matched the expected results.\n",
            "Patient E7130: processed data matched the expected results.\n",
            "Patient E5665: processed data matched the expected results.\n",
            "Patient E9957: processed data matched the expected results.\n",
            "Patient E10000: processed data matched the expected results.\n"
          ]
        }
      ],
      "source": [
        "file_path = \"https://drive.google.com/uc?export=download&id=1fLxJN9YGUqmqExrilxSS8furwUER5HHh\"\n",
        "\n",
        "url = \"https://drive.google.com/uc?export=download&id=1gx1SSC20mO5XL6uYD0mdcM_cL91fcIW5\"\n",
        "\n",
        "response = requests.get(url)\n",
        "if response.status_code == 200:\n",
        "    results = response.json()\n",
        "else:\n",
        "    print(\"Failed to download expected results.\")\n",
        "    results = {}\n",
        "\n",
        "processed_patients_data = process_patients(file_path)\n",
        "\n",
        "for patient_number, expected_info in results.items():\n",
        "    if patient_number in processed_patients_data:\n",
        "        processed_info = processed_patients_data[patient_number]\n",
        "        if (\n",
        "            expected_info[0].lower() == processed_info[\"sex\"].lower()\n",
        "            and expected_info[1] == processed_info[\"age\"]\n",
        "            and expected_info[2] == processed_info[\"breath\"]\n",
        "            and expected_info[3] == processed_info[\"oxygen_sat\"]\n",
        "            and expected_info[4] == processed_info[\"heart_rate\"]\n",
        "            and expected_info[5] == processed_info[\"systolic_bp\"]\n",
        "            and expected_info[6] == processed_info[\"temp\"]\n",
        "            and expected_info[7].lower() == processed_info[\"alertness\"].lower()\n",
        "            and expected_info[8].lower() == processed_info[\"inspired\"].lower()\n",
        "            and expected_info[9].lower() == processed_info[\"status\"].lower()\n",
        "            and (processed_info[\"hospital_name\"] is None or expected_info[11].lower() == processed_info[\"hospital\"].lower())\n",
        "            and (processed_info[\"address\"] is None or expected_info[12].lower() == processed_info[\"address\"].lower())\n",
        "        ):\n",
        "            print(f\"Patient {patient_number}: processed data matched the expected results.\")\n",
        "        else:\n",
        "            print(f\"Patient {patient_number}: processed data not matched the expected results.\")\n",
        "    else:\n",
        "       print(f\"Patient {patient_number} not found in processed data.\")"
      ]
    },
    {
      "cell_type": "markdown",
      "metadata": {
        "id": "237x8Z75CUnW"
      },
      "source": [
        "---\n",
        "\n",
        "## Check your work above\n",
        "\n",
        "If you didn't get them all correct, take a few minutes to think through those that aren't correct.\n",
        "\n",
        "\n",
        "## Submitting Your Work\n",
        "\n",
        "Submit your work as usual into a folder named `midterm`"
      ]
    },
    {
      "cell_type": "code",
      "source": [
        "def summarize_results(patients_data):\n",
        "    \"\"\"\n",
        "    Summarizes patient results based on a new business rule and counts how many patients are being assigned to different locations.\n",
        "\n",
        "    Parameters:\n",
        "        patients_data (dict): Dictionary containing patient information, hospitals, and addresses.\n",
        "\n",
        "    Returns a dictionary of which represents the summary of results\n",
        "    \"\"\"\n",
        "    result_summary = {\"Home\": 0}\n",
        "\n",
        "    for patient in patients_data.values():\n",
        "        patient_hospital = patient.get(\"hospital\")\n",
        "        patient_risk = patient.get(\"risk\")\n",
        "        if patient_risk and patient_risk < 0.10:\n",
        "            patient_hospital = \"Home\"\n",
        "        if patient_hospital not in result_summary:\n",
        "            result_summary[patient_hospital] = 1\n",
        "        else:\n",
        "            result_summary[patient_hospital] += 1\n",
        "    return result_summary\n"
      ],
      "metadata": {
        "id": "TdAR_pT0b7R_"
      },
      "execution_count": 92,
      "outputs": []
    },
    {
      "cell_type": "code",
      "source": [
        "file_location = \"https://drive.google.com/uc?export=download&id=1fLxJN9YGUqmqExrilxSS8furwUER5HHh\"\n",
        "patients = process_patients(file_location)\n",
        "summary = summarize_results(patients)\n",
        "print(summary)"
      ],
      "metadata": {
        "colab": {
          "base_uri": "https://localhost:8080/"
        },
        "id": "lxXyElux9Dxt",
        "outputId": "1d558323-4612-42a9-889b-c91d7206b3c2"
      },
      "execution_count": 93,
      "outputs": [
        {
          "output_type": "stream",
          "name": "stdout",
          "text": [
            "Skipping row 101 due to incorrect data format.\n",
            "{'Home': 0, None: 99}\n"
          ]
        }
      ]
    },
    {
      "cell_type": "markdown",
      "metadata": {
        "id": "16hc1xkXCUnW"
      },
      "source": [
        "---"
      ]
    }
  ],
  "metadata": {
    "kernelspec": {
      "display_name": "Python 3",
      "language": "python",
      "name": "python3"
    },
    "language_info": {
      "codemirror_mode": {
        "name": "ipython",
        "version": 3
      },
      "file_extension": ".py",
      "mimetype": "text/x-python",
      "name": "python",
      "nbconvert_exporter": "python",
      "pygments_lexer": "ipython3",
      "version": "3.9.16"
    },
    "colab": {
      "provenance": [],
      "include_colab_link": true
    }
  },
  "nbformat": 4,
  "nbformat_minor": 0
}