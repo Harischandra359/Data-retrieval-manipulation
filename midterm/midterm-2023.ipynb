{
  "cells": [
    {
      "cell_type": "markdown",
      "metadata": {
        "id": "yKarNa-_CUnS"
      },
      "source": [
        "# HDS5210-2022 Midterm\n",
        "\n",
        "In the midterm, you're going to use all the programming and data management skills you've developed so far to build a risk calculator that pretends to be integrated with a clinical registry.  You'll compute the PRIEST COVID-19 Clinical Severity Score for a series of patients and, based on their risk of an adverse outcome, query a REST web service to find a hospital to transfer them to. The end result of your work will be a list of instructions on where each patient should be discharged given their risk and various characteristics of the patient.\n",
        "\n",
        "Each step in the midterm will build up to form your complete solution.\n",
        "\n",
        "**Make sure you write good docstrings and doctests along the way!!**\n",
        "\n",
        "**The midterm is due at 11:59 PM CST on Monday, October 23rd.**\n",
        "\n",
        "---"
      ]
    },
    {
      "cell_type": "markdown",
      "metadata": {
        "id": "JH64rxktCUnU"
      },
      "source": [
        "## Step 1: Calculate PRIEST Clinical Severity Score\n",
        "\n",
        "This scoring algorithm can be found [here on the MDCalc website](https://www.mdcalc.com/priest-covid-19-clinical-severity-score#evidence).  \n",
        "\n",
        "1. You will need to write a function called **priest()** with the following input parameters.  \n",
        " * Sex (Gender assigned at birth)\n",
        " * Age in years\n",
        " * Respiratory rate in breaths per minute\n",
        " * Oxygen saturation as a percent between 0 and 1\n",
        " * Heart rate in beats per minute\n",
        " * Systolic BP in mmHg\n",
        " * Temperature in degrees C\n",
        " * Alertness as a string description\n",
        " * Inspired Oxygen as as string description\n",
        " * Performance Status as a string description\n",
        "2. The function will need to follow the algorithm provided on the MDCalc website to compute a risk percentage that should be returned as a numeric value between 0 and 1.\n",
        "3. Be sure to use docstring documentation and at least three built-in docstring test cases.\n",
        "4. Assume that the input values that are strings could be any combination of upper or lower case. For example: 'male', 'Male', 'MALE', 'MalE' should all be interpretted by your code as male.\n",
        "5. If any of the inputs are invalid (for example a sex value that is not recognizable as male or female) your code should return None.\n",
        "\n",
        "NOTES:\n",
        "1. In the final step there is a table that translates from **PRIEST Score** to **30-day probability of an outcome** but the last two probabilities are shown as ranges (59-88% and >99%).  Our code needs to output a single number, however. For our code, use the following rule:\n",
        " * If PRIEST score is between 17 and 25, the probability you return should be 0.59\n",
        " * If PRIEST score is greater than or equal to 26, the probability you return should be 0.99\n"
      ]
    },
    {
      "cell_type": "code",
      "execution_count": 90,
      "metadata": {
        "id": "s_maLHqxCUnU",
        "outputId": "3d14ddb5-1139-456e-84af-04a1c2a013d9",
        "colab": {
          "base_uri": "https://localhost:8080/"
        }
      },
      "outputs": [
        {
          "output_type": "stream",
          "name": "stdout",
          "text": [
            "None\n",
            "0.59\n",
            "None\n"
          ]
        }
      ],
      "source": [
        "def priest(sex, age, respiratory_rate, oxygen_saturation, heart_rate, systolic_bp, temperature, alertness, inspired_oxygen, performance_status):\n",
        "    \"\"\"\n",
        "    (str, int, int, float, int, int, float, str, str, str) -> float / None\n",
        "\n",
        "    Calculate PRIEST Clinical Severity Score and return the risk percentage.\n",
        "\n",
        "    >> priest('male', 55, 18, 0.95, 85, 115, 36.9, 'confused or not alert', 'supplemental oxygen', 'limited self-care')\n",
        "    0.95\n",
        "\n",
        "    >> priest('female', 70, 23, 0.91, 100, 140, 38.2, 'confused or not alert', 'supplemental oxygen', 'bed/chair bound, no self-care')\n",
        "    0.59\n",
        "\n",
        "    >> priest('unknown', 45, 20, 0.98, 75, 125, 37.3, 'Alert', 'Air', 'Unrestricted normal activity')\n",
        "    None\n",
        "\n",
        "    \"\"\"\n",
        "\n",
        "    sex = sex.lower()\n",
        "    alertness = alertness.lower()\n",
        "    inspired_oxygen = inspired_oxygen.lower()\n",
        "    performance_status = performance_status.lower()\n",
        "\n",
        "    sex_score = age_score = rr_score = oxy_score = heart_rate_score = systolic_bp_score = temperature_score = alertness_score = inspired_oxygen_score = performance_status_score = 0\n",
        "\n",
        "    if sex == 'male':\n",
        "      sex_score = 1\n",
        "    elif sex == 'female':\n",
        "      sex_score = 0\n",
        "    else :\n",
        "      return None\n",
        "\n",
        "    if age >= 16 and age<= 49:\n",
        "      age_score = 0\n",
        "    elif age >= 50 and age<= 65:\n",
        "      age_score = 2\n",
        "    elif age >=66 and age <= 80:\n",
        "      age_score = 3\n",
        "    elif age > 80:\n",
        "      age_score = 4\n",
        "    else :\n",
        "      return None\n",
        "\n",
        "    if respiratory_rate < 9 or respiratory_rate > 24:\n",
        "      rr_score = 3\n",
        "    elif respiratory_rate >= 9 and respiratory_rate <= 11:\n",
        "      rr_score = 1\n",
        "    elif respiratory_rate >= 21 and respiratory_rate <= 24:\n",
        "      rr_score = 2\n",
        "    elif respiratory_rate >= 12 and respiratory_rate <= 20:\n",
        "      rr_score = 0\n",
        "    else:\n",
        "      return None\n",
        "\n",
        "    if oxygen_saturation >= 0.95 :\n",
        "      oxy_score = 0\n",
        "    elif oxygen_saturation >= 0.94 :\n",
        "      oxy_score = 1\n",
        "    elif oxygen_saturation >= 0.92 :\n",
        "      oxy_score = 2\n",
        "    elif oxygen_saturation < 0.92:\n",
        "      oxy_score = 3\n",
        "    else :\n",
        "      return None\n",
        "\n",
        "    if heart_rate >=51 and heart_rate <= 90 :\n",
        "      heart_rate_score = 0\n",
        "    elif (heart_rate >=41 and heart_rate <= 50) or (heart_rate >=91 and heart_rate <= 110) :\n",
        "      heart_rate_score = 1\n",
        "    elif heart_rate < 41 or heart_rate > 130 :\n",
        "      heart_rate_score = 3\n",
        "    elif heart_rate >= 111 and heart_rate <= 130 :\n",
        "      heart_rate_score = 2\n",
        "    else :\n",
        "      return None\n",
        "\n",
        "    if systolic_bp >= 111 and systolic_bp <= 219 :\n",
        "      systolic_bp_score = 0\n",
        "    elif systolic_bp >= 101 and systolic_bp <= 110 :\n",
        "      systolic_bp_score = 1\n",
        "    elif systolic_bp >= 91 and systolic_bp <= 100 :\n",
        "      systolic_bp_score = 2\n",
        "    elif systolic_bp < 91 and systolic_bp > 219 :\n",
        "      systolic_bp_score = 3\n",
        "    else :\n",
        "      return None\n",
        "\n",
        "    if temperature >= 36.1 and temperature <= 38 :\n",
        "      temperature_score = 0\n",
        "    elif (temperature >= 35.1 and temperature <= 36) or  (temperature >= 38.1 and temperature <= 39) :\n",
        "      temperature_score = 1\n",
        "    elif temperature > 39 :\n",
        "      temperature_score = 2\n",
        "    elif temperature <35.1 :\n",
        "      temperature_score = 3\n",
        "    else :\n",
        "      return None\n",
        "\n",
        "    if alertness == 'alert' :\n",
        "      alertness_score = 0\n",
        "    elif alertness == 'confused or not alert' :\n",
        "      alertness_score = 3\n",
        "    else :\n",
        "      return None\n",
        "\n",
        "    if inspired_oxygen == 'air' :\n",
        "      inspired_oxygen_score = 0\n",
        "    elif inspired_oxygen == 'supplemental oxygen' :\n",
        "      inspired_oxygen_score = 2\n",
        "    else :\n",
        "      return None\n",
        "\n",
        "    if performance_status == 'unrestricted normal activity':\n",
        "      performance_status_score = 0\n",
        "    elif performance_status == 'limited strenuous activity, can do light activity':\n",
        "      performance_status_score = 1\n",
        "    elif performance_status == 'limited activity, can self-care':\n",
        "      performance_status_score = 2\n",
        "    elif performance_status == 'limited self-care':\n",
        "      performance_status_score = 3\n",
        "    elif performance_status == 'bed/chair bound, no self-care':\n",
        "      performance_status_score = 4\n",
        "    else :\n",
        "      return None\n",
        "\n",
        "    priest_score = sex_score + age_score + rr_score + oxy_score + heart_rate_score + systolic_bp_score + temperature_score + alertness_score + inspired_oxygen_score + performance_status_score\n",
        "\n",
        "    if 17 <= priest_score <= 25:\n",
        "        probability = 0.59\n",
        "    elif priest_score >= 26:\n",
        "        probability = 0.99\n",
        "    else:\n",
        "        probability = None\n",
        "    return probability\n",
        "\n",
        "# Test cases\n",
        "print(priest('male', 55, 18, 0.95, 85, 115, 36.9, 'confused or not alert', 'supplemental oxygen', 'limited self-care'))\n",
        "print(priest('female', 70, 23, 0.91, 100, 140, 38.2, 'confused or not alert', 'supplemental oxygen', 'bed/chair bound, no self-care'))\n",
        "print(priest('unknown', 45, 20, 0.98, 75, 125, 37.3, 'Alert', 'Air', 'Unrestricted normal activity'))\n"
      ]
    },
    {
      "cell_type": "code",
      "execution_count": 91,
      "metadata": {
        "id": "FLBhd8qSCUnV",
        "outputId": "fff41665-2439-4c6d-c1e9-dbc3be300fe1",
        "colab": {
          "base_uri": "https://localhost:8080/"
        }
      },
      "outputs": [
        {
          "output_type": "stream",
          "name": "stdout",
          "text": [
            "Finding tests in NoName\n"
          ]
        }
      ],
      "source": [
        "import doctest\n",
        "doctest.run_docstring_examples(priest, globals(),verbose=True)"
      ]
    },
    {
      "cell_type": "markdown",
      "metadata": {
        "id": "MdvCtNX3CUnV"
      },
      "source": [
        "## Part 2: Find a hospital\n",
        "\n",
        "The next thing we have to do is figure out where to send this particular patient.  The guidelines on where to send a patient are based on their age (pediatric, adult, geriatric), sex, and risk percentage.  Luckily, you don't have to implement these rules. I already have. All you have to do is use a REST web service that I've created for you.\n",
        "\n",
        "You'll want to use Python to make a call to my REST web service similar to the example URL below. The first part of the URL will be the same for everyone and every request that you make. What you will need to modify for each of your requests is the information after the question mark.\n",
        "\n",
        "```\n",
        "https://oumdj6oci2.execute-api.us-east-1.amazonaws.com/prd/?age=40&sex=male&risk_pct=0.1\n",
        "```\n",
        "\n",
        "The example above asks my web service where a 40-year old male with a risk of 10% should go.  What the web service will return back is a JSON string containing the information you need.  That JSON will look like this:\n",
        "\n",
        "```json\n",
        "{\n",
        "  \"age\": \"40\",\n",
        "  \"sex\": \"male\",\n",
        "  \"risk\": \"0.1\",\n",
        "  \"hospital\": \"Southwest Hospital and Medical Center\"\n",
        "}\n",
        "```\n",
        "\n",
        "My function is not smart enough to understand `'MALE'` is the same as `'male'`.  You have to send it exactly `'male'` or `'female'`\n",
        "\n",
        "1. Your job is to write a function called **find_hospital()** that takes age, sex, and risk as parameters.\n",
        "2. Your function should call this REST web service using the `requests` module\n",
        "3. Then your function will need to interpret the JSON it gets and return just the name of the hospital\n",
        "4. If anything fails, return None\n",
        "5. Include a good docstring with at least three test cases.\n"
      ]
    },
    {
      "cell_type": "code",
      "execution_count": 92,
      "metadata": {
        "id": "y_1dMpeZCUnV",
        "outputId": "8c3a47ea-25c3-48ed-9d1b-6c54cf772d50",
        "colab": {
          "base_uri": "https://localhost:8080/"
        }
      },
      "outputs": [
        {
          "output_type": "stream",
          "name": "stdout",
          "text": [
            "Southwest Hospital and Medical Center\n",
            "Select Specialty Hospital - Northeast Atlanta\n",
            "Emory Dunwoody Medical Center\n"
          ]
        }
      ],
      "source": [
        "import requests\n",
        "\n",
        "def find_hospital(age, sex, risk):\n",
        "    \"\"\"\n",
        "    (int, str, float) -> str\n",
        "\n",
        "    Find a hospital based on age, sex, and risk percentage using a REST web service.\n",
        "\n",
        "    >> find_hospital(40, 'male', 0.1)\n",
        "    Southwest Hospital and Medical Center\n",
        "\n",
        "    >> find_hospital(35, 'female', 0.05)\n",
        "    Select Specialty Hospital - Northeast Atlanta\n",
        "\n",
        "    >> find_hospital(50, 'male', 0.8)\n",
        "    Emory Dunwoody Medical Center\n",
        "\n",
        "    \"\"\"\n",
        "    url = f\"https://oumdj6oci2.execute-api.us-east-1.amazonaws.com/prd/?age={age}&sex={sex}&risk_pct={risk}\"\n",
        "\n",
        "    try:\n",
        "        response = requests.get(url)\n",
        "        if response.status_code == 200:\n",
        "            data = response.json()\n",
        "            hospital_name = data.get('hospital')\n",
        "            return hospital_name\n",
        "        else:\n",
        "            return None\n",
        "\n",
        "    except Exception as e:\n",
        "        print(f\"Error: {e}\")\n",
        "        return None\n",
        "\n",
        "# Test cases\n",
        "print(find_hospital(40, 'male', 0.1))  # Example test case\n",
        "print(find_hospital(35, 'female', 0.05))  # Test case with a different age and risk percentage\n",
        "print(find_hospital(50, 'male', 0.8))  # Test case with a different age and high risk percentage"
      ]
    },
    {
      "cell_type": "code",
      "execution_count": 93,
      "metadata": {
        "id": "7yxH3dqVCUnV",
        "outputId": "842a09f7-598a-470f-cd3c-a0497fb0cdbb",
        "colab": {
          "base_uri": "https://localhost:8080/"
        }
      },
      "outputs": [
        {
          "output_type": "stream",
          "name": "stdout",
          "text": [
            "Finding tests in NoName\n"
          ]
        }
      ],
      "source": [
        "import doctest\n",
        "doctest.run_docstring_examples(find_hospital, globals(),verbose=True)"
      ]
    },
    {
      "cell_type": "markdown",
      "metadata": {
        "id": "cXAhyvvHCUnV"
      },
      "source": [
        "## Part 3: Get the address for that hospital from a JSON file\n",
        "\n",
        "Great! Now we have code to tell us which hospital to send someone to... but we don't know where that hospital is. The next function we need to create is one that looks up the address of that hospital.  All of these hospitals are in Atlanta, Georgia.  We're going to use the list from this webpage to lookup the address for that hospital, based on its name.  https://www.officialusa.com/stateguides/health/hospitals/georgia.html\n",
        "\n",
        "Because we skipped the section about Beautiful Soup and working with HTML, I've converted this information into a JSON document for you.  It's available for you here.  Your code should retrieve this file using the `requests` module.\n",
        "\n",
        "`https://drive.google.com/uc?export=download&id=1fIFD-NkcdiMu941N4GjyMDWxiKsFJBw-`\n",
        "\n",
        "1. You need to create a function called **get_address()** that takes hospital name as a parameter and searches the data from this JSON file for the hospital you want to find.\n",
        "2. Your code will have to load the JSON and return the correct hospital based on name.\n",
        "3. If the hospital name isn't found, the function should return None.\n",
        "4. Be sure to use good docstring documentation and includes at least 3 test cases."
      ]
    },
    {
      "cell_type": "code",
      "execution_count": 94,
      "metadata": {
        "id": "podQ7DZMCUnW",
        "outputId": "a9be568e-ddcb-4617-af41-ece1278173ea",
        "colab": {
          "base_uri": "https://localhost:8080/"
        }
      },
      "outputs": [
        {
          "output_type": "stream",
          "name": "stdout",
          "text": [
            "706 NORTH PARRISH AVENUE\n",
            "None\n",
            "2000 PALMYRA ROAD\n"
          ]
        }
      ],
      "source": [
        "import requests\n",
        "\n",
        "def get_address(hospital_name):\n",
        "    \"\"\"\n",
        "    (str) -> str\n",
        "\n",
        "    Get the address of a hospital based on its name from a JSON file.\n",
        "\n",
        "    >> get_address(\"COOK MEDICAL CENTER\"\n",
        "    706 NORTH PARRISH AVENUE\n",
        "\n",
        "    >> get_address(\"INVALID HOSPITAL\")\n",
        "    None\n",
        "\n",
        "    >> get_address(\"PHOEBE PUTNEY MEMORIAL HOSPITAL - NORTH CAMPUS\")\n",
        "    2000 PALMYRA ROAD\n",
        "    \"\"\"\n",
        "    json_url = \"https://drive.google.com/uc?export=download&id=1fIFD-NkcdiMu941N4GjyMDWxiKsFJBw-\"\n",
        "\n",
        "    try:\n",
        "        response = requests.get(json_url)\n",
        "        if response.status_code == 200:\n",
        "            hospital_data = response.json()\n",
        "            if hospital_name in hospital_data:\n",
        "                return hospital_data[hospital_name][\"ADDRESS\"]\n",
        "            else:\n",
        "                return None\n",
        "        else:\n",
        "            return None\n",
        "\n",
        "    except Exception as e:\n",
        "        print(f\"Error: {e}\")\n",
        "        return None\n",
        "\n",
        "# Test cases\n",
        "print(get_address(\"COOK MEDICAL CENTER\"))  # Test case with a valid hospital name\n",
        "print(get_address(\"INVALID HOSPITAL\"))  # Test case with an invalid hospital name\n",
        "print(get_address(\"PHOEBE PUTNEY MEMORIAL HOSPITAL - NORTH CAMPUS\"))  # Another valid test case\n"
      ]
    },
    {
      "cell_type": "markdown",
      "metadata": {
        "id": "2YqD6km3CUnW"
      },
      "source": [
        "## Part 4: Run the risk calculator on a population\n",
        "\n",
        "At the link below, there is a file called `people.psv`.  It is a pipe-delimited (`|`) file with columns that match the inputs for the PRIEST calculation above.  Your code should use the `requests` module to retrieve the file from this URL.\n",
        "\n",
        "`https://drive.google.com/uc?export=download&id=1fLxJN9YGUqmqExrilxSS8furwUER5HHh`\n",
        "\n",
        "\n",
        "In addition, the file has a patient identifier in the first column.\n",
        "\n",
        "1. Write a function called **process_people()** that takes the file location above as its only parameter. Your Python program should use your code above to process all of these rows, determine the hospital and address, and return a list whose items are a dictionary like this: `{ patient_number: [sex, age, breath, o2sat, heart, systolic, temp, alertness, inspired, status, hospital, address]}`.  Look at the file in Part 5 for what the output looks like.\n",
        "2. Be sure to use good docstrings, but you don't need any tests in your doc strings.  I've provided those for you withe file in Part 5.\n",
        "\n",
        "\n",
        "**NOTE** that when running your code for all the 100 records in the `people.psv` file, it may take a few minutes to complete.  You're making multiple calls to the internet for each record, so that can take a little while.\n"
      ]
    },
    {
      "cell_type": "code",
      "execution_count": 97,
      "metadata": {
        "id": "2XMDmnv8CUnW",
        "outputId": "0dc908e3-128f-44c7-c017-6cceb5605429",
        "colab": {
          "base_uri": "https://localhost:8080/"
        }
      },
      "outputs": [
        {
          "output_type": "stream",
          "name": "stdout",
          "text": [
            "Skipping row 101 due to incorrect data format.\n",
            "{'E9559': {'sex': 'FEMALE', 'age': 40, 'breath': 24, 'o2_sat': 0.96, 'heart': 105, 'systolic_bp': 115, 'temp': 34.9, 'alertness': 'ALERT', 'inspired': 'AIR', 'status': 'unrestricted normal activity', 'hospital': None, 'address': None}, 'E9385': {'sex': 'Female', 'age': 51, 'breath': 19, 'o2_sat': 0.99, 'heart': 90, 'systolic_bp': 91, 'temp': 38.1, 'alertness': 'ALERT', 'inspired': 'supplemental oxygen', 'status': 'unrestricted normal activity', 'hospital': None, 'address': None}, 'E3067': {'sex': 'female', 'age': 40, 'breath': 29, 'o2_sat': 0.96, 'heart': 105, 'systolic_bp': 95, 'temp': 38.1, 'alertness': 'ALERT', 'inspired': 'air', 'status': 'unrestricted normal activity', 'hospital': None, 'address': None}, 'E9422': {'sex': 'FEMALE', 'age': 66, 'breath': 19, 'o2_sat': 0.96, 'heart': 135, 'systolic_bp': 115, 'temp': 38.1, 'alertness': 'ALERT', 'inspired': 'AIR', 'status': 'bed/chair bound, no self-care', 'hospital': None, 'address': None}, 'E8661': {'sex': 'MALE', 'age': 18, 'breath': 22, 'o2_sat': 0.95, 'heart': 105, 'systolic_bp': 115, 'temp': 36.3, 'alertness': 'Confused or Not Alert', 'inspired': 'air', 'status': 'unrestricted normal activity', 'hospital': None, 'address': None}, 'E6235': {'sex': 'Male', 'age': 16, 'breath': 23, 'o2_sat': 0.96, 'heart': 135, 'systolic_bp': 115, 'temp': 39.2, 'alertness': 'ALERT', 'inspired': 'supplemental oxygen', 'status': 'unrestricted normal activity', 'hospital': None, 'address': None}, 'E4451': {'sex': 'MALE', 'age': 40, 'breath': 8, 'o2_sat': 0.96, 'heart': 135, 'systolic_bp': 115, 'temp': 38.1, 'alertness': 'ALERT', 'inspired': 'AIR', 'status': 'unrestricted normal activity', 'hospital': None, 'address': None}, 'E8433': {'sex': 'FEMALE', 'age': 40, 'breath': 23, 'o2_sat': 0.99, 'heart': 89, 'systolic_bp': 91, 'temp': 38.1, 'alertness': 'ALERT', 'inspired': 'AIR', 'status': 'limited self-care', 'hospital': None, 'address': None}, 'E7593': {'sex': 'FEMALE', 'age': 80, 'breath': 23, 'o2_sat': 0.96, 'heart': 105, 'systolic_bp': 115, 'temp': 38.1, 'alertness': 'ALERT', 'inspired': 'supplemental oxygen', 'status': 'limited activity, can self-care', 'hospital': None, 'address': None}, 'E3296': {'sex': 'MALE', 'age': 51, 'breath': 23, 'o2_sat': 0.95, 'heart': 105, 'systolic_bp': 115, 'temp': 38.1, 'alertness': 'ALERT', 'inspired': 'AIR', 'status': 'unrestricted normal activity', 'hospital': None, 'address': None}, 'E4157': {'sex': 'FEMALE', 'age': 40, 'breath': 23, 'o2_sat': 0.96, 'heart': 41, 'systolic_bp': 115, 'temp': 35.4, 'alertness': 'ALERT', 'inspired': 'AIR', 'status': 'unrestricted normal activity', 'hospital': None, 'address': None}, 'E7702': {'sex': 'FEMALE', 'age': 40, 'breath': 22, 'o2_sat': 0.96, 'heart': 105, 'systolic_bp': 115, 'temp': 38.1, 'alertness': 'ALERT', 'inspired': 'supplemental oxygen', 'status': 'unrestricted normal activity', 'hospital': None, 'address': None}, 'E8158': {'sex': 'MALE', 'age': 40, 'breath': 20, 'o2_sat': 0.99, 'heart': 135, 'systolic_bp': 115, 'temp': 39.2, 'alertness': 'ALERT', 'inspired': 'AIR', 'status': 'unrestricted normal activity', 'hospital': None, 'address': None}, 'E4795': {'sex': 'female', 'age': 80, 'breath': 11, 'o2_sat': 0.93, 'heart': 105, 'systolic_bp': 95, 'temp': 40.8, 'alertness': 'ALERT', 'inspired': 'AIR', 'status': 'limited activity, can self-care', 'hospital': None, 'address': None}, 'E8800': {'sex': 'MALE', 'age': 80, 'breath': 22, 'o2_sat': 0.96, 'heart': 105, 'systolic_bp': 115, 'temp': 39.2, 'alertness': 'confused or not alert', 'inspired': 'AIR', 'status': 'limited activity, can self-care', 'hospital': None, 'address': None}, 'E4855': {'sex': 'female', 'age': 51, 'breath': 23, 'o2_sat': 0.94, 'heart': 135, 'systolic_bp': 115, 'temp': 38.1, 'alertness': 'ALERT', 'inspired': 'AIR', 'status': 'limited strenuous activity, can do light activity', 'hospital': None, 'address': None}, 'E9691': {'sex': 'Male', 'age': 16, 'breath': 10, 'o2_sat': 0.96, 'heart': 105, 'systolic_bp': 115, 'temp': 38.1, 'alertness': 'ALERT', 'inspired': 'AIR', 'status': 'unrestricted normal activity', 'hospital': None, 'address': None}, 'E4535': {'sex': 'FEMALE', 'age': 19, 'breath': 11, 'o2_sat': 0.99, 'heart': 105, 'systolic_bp': 115, 'temp': 35.4, 'alertness': 'ALERT', 'inspired': 'AIR', 'status': 'unrestricted normal activity', 'hospital': None, 'address': None}, 'E2360': {'sex': 'Male', 'age': 40, 'breath': 20, 'o2_sat': 0.96, 'heart': 51, 'systolic_bp': 95, 'temp': 34.9, 'alertness': 'alert', 'inspired': 'supplemental oxygen', 'status': 'unrestricted normal activity', 'hospital': None, 'address': None}, 'E3447': {'sex': 'MALE', 'age': 80, 'breath': 22, 'o2_sat': 0.96, 'heart': 41, 'systolic_bp': 115, 'temp': 38.1, 'alertness': 'ALERT', 'inspired': 'AIR', 'status': 'limited activity, can self-care', 'hospital': None, 'address': None}, 'E8208': {'sex': 'FEMALE', 'age': 18, 'breath': 23, 'o2_sat': 0.96, 'heart': 135, 'systolic_bp': 115, 'temp': 38.1, 'alertness': 'ALERT', 'inspired': 'AIR', 'status': 'unrestricted normal activity', 'hospital': None, 'address': None}, 'E4428': {'sex': 'FEMALE', 'age': 40, 'breath': 23, 'o2_sat': 0.96, 'heart': 38, 'systolic_bp': 115, 'temp': 36.3, 'alertness': 'ALERT', 'inspired': 'AIR', 'status': 'unrestricted normal activity', 'hospital': None, 'address': None}, 'E2766': {'sex': 'Male', 'age': 18, 'breath': 23, 'o2_sat': 0.96, 'heart': 105, 'systolic_bp': 115, 'temp': 34.9, 'alertness': 'ALERT', 'inspired': 'AIR', 'status': 'unrestricted normal activity', 'hospital': None, 'address': None}, 'E3888': {'sex': 'FEMALE', 'age': 51, 'breath': 19, 'o2_sat': 0.96, 'heart': 135, 'systolic_bp': 115, 'temp': 34.9, 'alertness': 'ALERT', 'inspired': 'AIR', 'status': 'unrestricted normal activity', 'hospital': None, 'address': None}, 'E7110': {'sex': 'female', 'age': 85, 'breath': 24, 'o2_sat': 0.99, 'heart': 105, 'systolic_bp': 101, 'temp': 40.8, 'alertness': 'Confused or Not Alert', 'inspired': 'AIR', 'status': 'unrestricted normal activity', 'hospital': None, 'address': None}, 'E2668': {'sex': 'FEMALE', 'age': 18, 'breath': 22, 'o2_sat': 0.96, 'heart': 105, 'systolic_bp': 101, 'temp': 38.1, 'alertness': 'ALERT', 'inspired': 'AIR', 'status': 'unrestricted normal activity', 'hospital': None, 'address': None}, 'E8482': {'sex': 'Male', 'age': 40, 'breath': 22, 'o2_sat': 0.96, 'heart': 105, 'systolic_bp': 230, 'temp': 36.3, 'alertness': 'ALERT', 'inspired': 'AIR', 'status': 'limited self-care', 'hospital': None, 'address': None}, 'E9619': {'sex': 'FEMALE', 'age': 40, 'breath': 11, 'o2_sat': 0.98, 'heart': 41, 'systolic_bp': 115, 'temp': 38.1, 'alertness': 'ALERT', 'inspired': 'AIR', 'status': 'unrestricted normal activity', 'hospital': None, 'address': None}, 'E1700': {'sex': 'male', 'age': 40, 'breath': 23, 'o2_sat': 0.96, 'heart': 105, 'systolic_bp': 115, 'temp': 38.1, 'alertness': 'Confused or Not Alert', 'inspired': 'AIR', 'status': 'unrestricted normal activity', 'hospital': None, 'address': None}, 'E8585': {'sex': 'MALE', 'age': 19, 'breath': 8, 'o2_sat': 0.96, 'heart': 105, 'systolic_bp': 115, 'temp': 36.3, 'alertness': 'alert', 'inspired': 'AIR', 'status': 'bed/chair bound, no self-care', 'hospital': None, 'address': None}, 'E8633': {'sex': 'FEMALE', 'age': 40, 'breath': 22, 'o2_sat': 0.96, 'heart': 38, 'systolic_bp': 91, 'temp': 35.4, 'alertness': 'ALERT', 'inspired': 'AIR', 'status': 'unrestricted normal activity', 'hospital': None, 'address': None}, 'E2117': {'sex': 'FEMALE', 'age': 16, 'breath': 22, 'o2_sat': 0.96, 'heart': 135, 'systolic_bp': 115, 'temp': 39.2, 'alertness': 'Confused or Not Alert', 'inspired': 'supplemental oxygen', 'status': 'bed/chair bound, no self-care', 'hospital': None, 'address': None}, 'E2322': {'sex': 'female', 'age': 18, 'breath': 22, 'o2_sat': 0.96, 'heart': 105, 'systolic_bp': 115, 'temp': 38.1, 'alertness': 'alert', 'inspired': 'supplemental oxygen', 'status': 'unrestricted normal activity', 'hospital': None, 'address': None}, 'E6912': {'sex': 'FEMALE', 'age': 51, 'breath': 23, 'o2_sat': 0.96, 'heart': 105, 'systolic_bp': 95, 'temp': 34.9, 'alertness': 'ALERT', 'inspired': 'AIR', 'status': 'unrestricted normal activity', 'hospital': None, 'address': None}, 'E5702': {'sex': 'Male', 'age': 80, 'breath': 23, 'o2_sat': 0.96, 'heart': 135, 'systolic_bp': 115, 'temp': 38.1, 'alertness': 'ALERT', 'inspired': 'AIR', 'status': 'unrestricted normal activity', 'hospital': None, 'address': None}, 'E5513': {'sex': 'FEMALE', 'age': 18, 'breath': 12, 'o2_sat': 0.96, 'heart': 105, 'systolic_bp': 115, 'temp': 38.1, 'alertness': 'ALERT', 'inspired': 'AIR', 'status': 'unrestricted normal activity', 'hospital': None, 'address': None}, 'E1861': {'sex': 'FEMALE', 'age': 18, 'breath': 22, 'o2_sat': 0.96, 'heart': 105, 'systolic_bp': 230, 'temp': 38.1, 'alertness': 'ALERT', 'inspired': 'AIR', 'status': 'limited strenuous activity, can do light activity', 'hospital': None, 'address': None}, 'E4809': {'sex': 'FEMALE', 'age': 40, 'breath': 22, 'o2_sat': 0.96, 'heart': 41, 'systolic_bp': 230, 'temp': 38.1, 'alertness': 'ALERT', 'inspired': 'AIR', 'status': 'unrestricted normal activity', 'hospital': None, 'address': None}, 'E1365': {'sex': 'MALE', 'age': 22, 'breath': 22, 'o2_sat': 0.96, 'heart': 115, 'systolic_bp': 101, 'temp': 35.4, 'alertness': 'ALERT', 'inspired': 'AIR', 'status': 'bed/chair bound, no self-care', 'hospital': None, 'address': None}, 'E5984': {'sex': 'Male', 'age': 40, 'breath': 12, 'o2_sat': 0.93, 'heart': 105, 'systolic_bp': 91, 'temp': 35.1, 'alertness': 'ALERT', 'inspired': 'AIR', 'status': 'limited activity, can self-care', 'hospital': None, 'address': None}, 'E7013': {'sex': 'FEMALE', 'age': 66, 'breath': 23, 'o2_sat': 0.96, 'heart': 135, 'systolic_bp': 89, 'temp': 40.8, 'alertness': 'ALERT', 'inspired': 'supplemental oxygen', 'status': 'unrestricted normal activity', 'hospital': None, 'address': None}, 'E2331': {'sex': 'female', 'age': 18, 'breath': 23, 'o2_sat': 0.98, 'heart': 105, 'systolic_bp': 115, 'temp': 38.1, 'alertness': 'ALERT', 'inspired': 'AIR', 'status': 'limited self-care', 'hospital': None, 'address': None}, 'E9938': {'sex': 'MALE', 'age': 18, 'breath': 12, 'o2_sat': 0.96, 'heart': 105, 'systolic_bp': 89, 'temp': 35.1, 'alertness': 'ALERT', 'inspired': 'AIR', 'status': 'unrestricted normal activity', 'hospital': None, 'address': None}, 'E5121': {'sex': 'Female', 'age': 18, 'breath': 23, 'o2_sat': 0.96, 'heart': 41, 'systolic_bp': 95, 'temp': 38.1, 'alertness': 'ALERT', 'inspired': 'supplemental oxygen', 'status': 'limited activity, can self-care', 'hospital': None, 'address': None}, 'E9280': {'sex': 'male', 'age': 65, 'breath': 10, 'o2_sat': 0.96, 'heart': 135, 'systolic_bp': 91, 'temp': 38.1, 'alertness': 'ALERT', 'inspired': 'AIR', 'status': 'unrestricted normal activity', 'hospital': None, 'address': None}, 'E4762': {'sex': 'FEMALE', 'age': 40, 'breath': 12, 'o2_sat': 0.98, 'heart': 105, 'systolic_bp': 95, 'temp': 38.1, 'alertness': 'ALERT', 'inspired': 'AIR', 'status': 'unrestricted normal activity', 'hospital': None, 'address': None}, 'E6885': {'sex': 'MALE', 'age': 18, 'breath': 23, 'o2_sat': 0.93, 'heart': 89, 'systolic_bp': 115, 'temp': 35.1, 'alertness': 'confused or not alert', 'inspired': 'AIR', 'status': 'limited activity, can self-care', 'hospital': None, 'address': None}, 'E1695': {'sex': 'FEMALE', 'age': 40, 'breath': 22, 'o2_sat': 0.96, 'heart': 41, 'systolic_bp': 115, 'temp': 38.1, 'alertness': 'ALERT', 'inspired': 'AIR', 'status': 'unrestricted normal activity', 'hospital': None, 'address': None}, 'E9658': {'sex': 'Female', 'age': 18, 'breath': 10, 'o2_sat': 0.96, 'heart': 90, 'systolic_bp': 230, 'temp': 38.1, 'alertness': 'ALERT', 'inspired': 'AIR', 'status': 'limited self-care', 'hospital': None, 'address': None}, 'E1961': {'sex': 'FEMALE', 'age': 65, 'breath': 23, 'o2_sat': 0.96, 'heart': 105, 'systolic_bp': 115, 'temp': 40.8, 'alertness': 'ALERT', 'inspired': 'AIR', 'status': 'limited activity, can self-care', 'hospital': None, 'address': None}, 'E9154': {'sex': 'FEMALE', 'age': 66, 'breath': 8, 'o2_sat': 0.94, 'heart': 105, 'systolic_bp': 89, 'temp': 35.4, 'alertness': 'alert', 'inspired': 'AIR', 'status': 'bed/chair bound, no self-care', 'hospital': None, 'address': None}, 'E9417': {'sex': 'FEMALE', 'age': 40, 'breath': 23, 'o2_sat': 0.96, 'heart': 105, 'systolic_bp': 95, 'temp': 38.1, 'alertness': 'alert', 'inspired': 'AIR', 'status': 'unrestricted normal activity', 'hospital': None, 'address': None}, 'E9979': {'sex': 'Male', 'age': 18, 'breath': 8, 'o2_sat': 0.96, 'heart': 105, 'systolic_bp': 115, 'temp': 38.1, 'alertness': 'ALERT', 'inspired': 'AIR', 'status': 'limited strenuous activity, can do light activity', 'hospital': None, 'address': None}, 'E9316': {'sex': 'MALE', 'age': 18, 'breath': 23, 'o2_sat': 0.96, 'heart': 135, 'systolic_bp': 115, 'temp': 38.1, 'alertness': 'ALERT', 'inspired': 'AIR', 'status': 'unrestricted normal activity', 'hospital': None, 'address': None}, 'E8146': {'sex': 'Male', 'age': 18, 'breath': 12, 'o2_sat': 0.96, 'heart': 115, 'systolic_bp': 115, 'temp': 38.1, 'alertness': 'ALERT', 'inspired': 'AIR', 'status': 'unrestricted normal activity', 'hospital': None, 'address': None}, 'E3093': {'sex': 'female', 'age': 40, 'breath': 29, 'o2_sat': 0.96, 'heart': 105, 'systolic_bp': 95, 'temp': 38.1, 'alertness': 'ALERT', 'inspired': 'AIR', 'status': 'unrestricted normal activity', 'hospital': None, 'address': None}, 'E8829': {'sex': 'male', 'age': 65, 'breath': 12, 'o2_sat': 0.96, 'heart': 51, 'systolic_bp': 230, 'temp': 38.1, 'alertness': 'alert', 'inspired': 'AIR', 'status': 'unrestricted normal activity', 'hospital': None, 'address': None}, 'E1453': {'sex': 'male', 'age': 18, 'breath': 24, 'o2_sat': 0.99, 'heart': 105, 'systolic_bp': 115, 'temp': 38.1, 'alertness': 'ALERT', 'inspired': 'AIR', 'status': 'unrestricted normal activity', 'hospital': None, 'address': None}, 'E5777': {'sex': 'female', 'age': 66, 'breath': 23, 'o2_sat': 0.96, 'heart': 115, 'systolic_bp': 89, 'temp': 38.1, 'alertness': 'ALERT', 'inspired': 'AIR', 'status': 'limited strenuous activity, can do light activity', 'hospital': None, 'address': None}, 'E4564': {'sex': 'FEMALE', 'age': 18, 'breath': 24, 'o2_sat': 0.96, 'heart': 41, 'systolic_bp': 115, 'temp': 35.1, 'alertness': 'confused or not alert', 'inspired': 'AIR', 'status': 'unrestricted normal activity', 'hospital': None, 'address': None}, 'E1904': {'sex': 'FEMALE', 'age': 40, 'breath': 22, 'o2_sat': 0.93, 'heart': 38, 'systolic_bp': 95, 'temp': 38.1, 'alertness': 'Confused or Not Alert', 'inspired': 'AIR', 'status': 'unrestricted normal activity', 'hospital': None, 'address': None}, 'E8746': {'sex': 'Female', 'age': 40, 'breath': 12, 'o2_sat': 0.93, 'heart': 105, 'systolic_bp': 115, 'temp': 38.1, 'alertness': 'ALERT', 'inspired': 'AIR', 'status': 'unrestricted normal activity', 'hospital': None, 'address': None}, 'E9165': {'sex': 'FEMALE', 'age': 19, 'breath': 22, 'o2_sat': 0.98, 'heart': 50, 'systolic_bp': 95, 'temp': 38.1, 'alertness': 'ALERT', 'inspired': 'AIR', 'status': 'limited activity, can self-care', 'hospital': None, 'address': None}, 'E9305': {'sex': 'FEMALE', 'age': 40, 'breath': 8, 'o2_sat': 0.89, 'heart': 105, 'systolic_bp': 101, 'temp': 38.1, 'alertness': 'ALERT', 'inspired': 'supplemental oxygen', 'status': 'unrestricted normal activity', 'hospital': None, 'address': None}, 'E3217': {'sex': 'Female', 'age': 40, 'breath': 10, 'o2_sat': 0.95, 'heart': 105, 'systolic_bp': 95, 'temp': 38.1, 'alertness': 'ALERT', 'inspired': 'AIR', 'status': 'unrestricted normal activity', 'hospital': None, 'address': None}, 'E3127': {'sex': 'Female', 'age': 40, 'breath': 8, 'o2_sat': 0.96, 'heart': 38, 'systolic_bp': 115, 'temp': 36.3, 'alertness': 'ALERT', 'inspired': 'AIR', 'status': 'limited strenuous activity, can do light activity', 'hospital': None, 'address': None}, 'E7501': {'sex': 'female', 'age': 18, 'breath': 23, 'o2_sat': 0.96, 'heart': 135, 'systolic_bp': 115, 'temp': 38.1, 'alertness': 'ALERT', 'inspired': 'AIR', 'status': 'unrestricted normal activity', 'hospital': None, 'address': None}, 'E4997': {'sex': 'female', 'age': 40, 'breath': 23, 'o2_sat': 0.94, 'heart': 105, 'systolic_bp': 115, 'temp': 36.3, 'alertness': 'ALERT', 'inspired': 'AIR', 'status': 'unrestricted normal activity', 'hospital': None, 'address': None}, 'E6181': {'sex': 'female', 'age': 19, 'breath': 23, 'o2_sat': 0.96, 'heart': 89, 'systolic_bp': 115, 'temp': 38.1, 'alertness': 'ALERT', 'inspired': 'AIR', 'status': 'unrestricted normal activity', 'hospital': None, 'address': None}, 'E1073': {'sex': 'FEMALE', 'age': 18, 'breath': 24, 'o2_sat': 0.95, 'heart': 50, 'systolic_bp': 115, 'temp': 38.1, 'alertness': 'Confused or Not Alert', 'inspired': 'AIR', 'status': 'limited self-care', 'hospital': None, 'address': None}, 'E9608': {'sex': 'female', 'age': 80, 'breath': 12, 'o2_sat': 0.96, 'heart': 50, 'systolic_bp': 89, 'temp': 38.1, 'alertness': 'ALERT', 'inspired': 'AIR', 'status': 'unrestricted normal activity', 'hospital': None, 'address': None}, 'E7663': {'sex': 'FEMALE', 'age': 18, 'breath': 11, 'o2_sat': 0.96, 'heart': 105, 'systolic_bp': 115, 'temp': 38.1, 'alertness': 'ALERT', 'inspired': 'air', 'status': 'limited self-care', 'hospital': None, 'address': None}, 'E7648': {'sex': 'female', 'age': 66, 'breath': 12, 'o2_sat': 0.98, 'heart': 41, 'systolic_bp': 115, 'temp': 34.9, 'alertness': 'ALERT', 'inspired': 'air', 'status': 'unrestricted normal activity', 'hospital': None, 'address': None}, 'E1883': {'sex': 'male', 'age': 40, 'breath': 10, 'o2_sat': 0.98, 'heart': 105, 'systolic_bp': 115, 'temp': 38.1, 'alertness': 'ALERT', 'inspired': 'AIR', 'status': 'unrestricted normal activity', 'hospital': None, 'address': None}, 'E2001': {'sex': 'FEMALE', 'age': 18, 'breath': 12, 'o2_sat': 0.99, 'heart': 51, 'systolic_bp': 115, 'temp': 38.1, 'alertness': 'Confused or Not Alert', 'inspired': 'AIR', 'status': 'unrestricted normal activity', 'hospital': None, 'address': None}, 'E2418': {'sex': 'male', 'age': 18, 'breath': 20, 'o2_sat': 0.94, 'heart': 105, 'systolic_bp': 115, 'temp': 35.4, 'alertness': 'ALERT', 'inspired': 'air', 'status': 'unrestricted normal activity', 'hospital': None, 'address': None}, 'E3739': {'sex': 'Male', 'age': 85, 'breath': 10, 'o2_sat': 0.96, 'heart': 105, 'systolic_bp': 115, 'temp': 38.1, 'alertness': 'Confused or Not Alert', 'inspired': 'supplemental oxygen', 'status': 'unrestricted normal activity', 'hospital': None, 'address': None}, 'E8351': {'sex': 'FEMALE', 'age': 40, 'breath': 23, 'o2_sat': 0.96, 'heart': 90, 'systolic_bp': 101, 'temp': 38.1, 'alertness': 'ALERT', 'inspired': 'AIR', 'status': 'unrestricted normal activity', 'hospital': None, 'address': None}, 'E2882': {'sex': 'Male', 'age': 51, 'breath': 24, 'o2_sat': 0.98, 'heart': 105, 'systolic_bp': 91, 'temp': 38.1, 'alertness': 'ALERT', 'inspired': 'AIR', 'status': 'unrestricted normal activity', 'hospital': None, 'address': None}, 'E1902': {'sex': 'Female', 'age': 85, 'breath': 22, 'o2_sat': 0.96, 'heart': 105, 'systolic_bp': 115, 'temp': 38.1, 'alertness': 'ALERT', 'inspired': 'supplemental oxygen', 'status': 'unrestricted normal activity', 'hospital': None, 'address': None}, 'E2155': {'sex': 'Male', 'age': 18, 'breath': 22, 'o2_sat': 0.94, 'heart': 105, 'systolic_bp': 115, 'temp': 38.1, 'alertness': 'ALERT', 'inspired': 'air', 'status': 'limited self-care', 'hospital': None, 'address': None}, 'E4345': {'sex': 'Female', 'age': 40, 'breath': 19, 'o2_sat': 0.89, 'heart': 41, 'systolic_bp': 115, 'temp': 34.9, 'alertness': 'ALERT', 'inspired': 'air', 'status': 'unrestricted normal activity', 'hospital': None, 'address': None}, 'E4194': {'sex': 'FEMALE', 'age': 40, 'breath': 12, 'o2_sat': 0.95, 'heart': 105, 'systolic_bp': 91, 'temp': 38.1, 'alertness': 'ALERT', 'inspired': 'AIR', 'status': 'limited self-care', 'hospital': None, 'address': None}, 'E5211': {'sex': 'male', 'age': 65, 'breath': 22, 'o2_sat': 0.96, 'heart': 41, 'systolic_bp': 115, 'temp': 38.1, 'alertness': 'ALERT', 'inspired': 'AIR', 'status': 'unrestricted normal activity', 'hospital': None, 'address': None}, 'E5488': {'sex': 'Female', 'age': 40, 'breath': 12, 'o2_sat': 0.94, 'heart': 105, 'systolic_bp': 101, 'temp': 38.1, 'alertness': 'ALERT', 'inspired': 'AIR', 'status': 'unrestricted normal activity', 'hospital': None, 'address': None}, 'E8560': {'sex': 'FEMALE', 'age': 40, 'breath': 23, 'o2_sat': 0.96, 'heart': 41, 'systolic_bp': 115, 'temp': 35.1, 'alertness': 'confused or not alert', 'inspired': 'AIR', 'status': 'unrestricted normal activity', 'hospital': None, 'address': None}, 'E2995': {'sex': 'FEMALE', 'age': 18, 'breath': 20, 'o2_sat': 0.99, 'heart': 105, 'systolic_bp': 95, 'temp': 35.1, 'alertness': 'alert', 'inspired': 'AIR', 'status': 'unrestricted normal activity', 'hospital': None, 'address': None}, 'E3422': {'sex': 'FEMALE', 'age': 40, 'breath': 8, 'o2_sat': 0.96, 'heart': 105, 'systolic_bp': 115, 'temp': 35.4, 'alertness': 'ALERT', 'inspired': 'AIR', 'status': 'unrestricted normal activity', 'hospital': None, 'address': None}, 'E7707': {'sex': 'Female', 'age': 18, 'breath': 20, 'o2_sat': 0.96, 'heart': 38, 'systolic_bp': 115, 'temp': 36.3, 'alertness': 'ALERT', 'inspired': 'air', 'status': 'limited strenuous activity, can do light activity', 'hospital': None, 'address': None}, 'E3119': {'sex': 'FEMALE', 'age': 18, 'breath': 20, 'o2_sat': 0.99, 'heart': 135, 'systolic_bp': 89, 'temp': 35.1, 'alertness': 'ALERT', 'inspired': 'supplemental oxygen', 'status': 'unrestricted normal activity', 'hospital': None, 'address': None}, 'E1419': {'sex': 'male', 'age': 65, 'breath': 23, 'o2_sat': 0.99, 'heart': 105, 'systolic_bp': 91, 'temp': 38.1, 'alertness': 'alert', 'inspired': 'AIR', 'status': 'unrestricted normal activity', 'hospital': None, 'address': None}, 'E7748': {'sex': 'male', 'age': 40, 'breath': 23, 'o2_sat': 0.93, 'heart': 105, 'systolic_bp': 115, 'temp': 38.1, 'alertness': 'ALERT', 'inspired': 'supplemental oxygen', 'status': 'unrestricted normal activity', 'hospital': None, 'address': None}, 'E7251': {'sex': 'Female', 'age': 40, 'breath': 12, 'o2_sat': 0.96, 'heart': 105, 'systolic_bp': 91, 'temp': 38.1, 'alertness': 'alert', 'inspired': 'AIR', 'status': 'unrestricted normal activity', 'hospital': None, 'address': None}, 'E1235': {'sex': 'FEMALE', 'age': 40, 'breath': 29, 'o2_sat': 0.96, 'heart': 41, 'systolic_bp': 115, 'temp': 38.1, 'alertness': 'ALERT', 'inspired': 'AIR', 'status': 'bed/chair bound, no self-care', 'hospital': None, 'address': None}, 'E5361': {'sex': 'FEMALE', 'age': 18, 'breath': 22, 'o2_sat': 0.93, 'heart': 90, 'systolic_bp': 101, 'temp': 38.1, 'alertness': 'confused or not alert', 'inspired': 'AIR', 'status': 'unrestricted normal activity', 'hospital': None, 'address': None}, 'E7130': {'sex': 'FEMALE', 'age': 18, 'breath': 22, 'o2_sat': 0.96, 'heart': 50, 'systolic_bp': 115, 'temp': 38.1, 'alertness': 'ALERT', 'inspired': 'AIR', 'status': 'limited strenuous activity, can do light activity', 'hospital': None, 'address': None}, 'E5665': {'sex': 'FEMALE', 'age': 85, 'breath': 23, 'o2_sat': 0.96, 'heart': 115, 'systolic_bp': 115, 'temp': 38.1, 'alertness': 'ALERT', 'inspired': 'AIR', 'status': 'unrestricted normal activity', 'hospital': None, 'address': None}, 'E9957': {'sex': 'Female', 'age': 40, 'breath': 22, 'o2_sat': 0.98, 'heart': 89, 'systolic_bp': 230, 'temp': 38.1, 'alertness': 'alert', 'inspired': 'AIR', 'status': 'unrestricted normal activity', 'hospital': None, 'address': None}, 'E10000': {'sex': 'FEMALE', 'age': 18, 'breath': 23, 'o2_sat': 0.96, 'heart': 105, 'systolic_bp': 101, 'temp': 38.1, 'alertness': 'ALERT', 'inspired': 'AIR', 'status': 'limited activity, can self-care', 'hospital': None, 'address': None}}\n"
          ]
        }
      ],
      "source": [
        "import requests\n",
        "\n",
        "def process_people(file_location):\n",
        "    \"\"\"\n",
        "    Process patient data from a pipe-delimited file, calculate PRIEST scores, determine hospitals, and get addresses.\n",
        "\n",
        "    Args:\n",
        "        file_location (str): URL of the pipe-delimited file containing patient data.\n",
        "\n",
        "    Returns:\n",
        "        dict: Dictionary with patient numbers as keys and their information, hospital, and address as values.\n",
        "    \"\"\"\n",
        "    response = requests.get(file_location)\n",
        "\n",
        "    if response.status_code == 200:\n",
        "        data = response.text.split('\\n')\n",
        "        processed_data = {}\n",
        "        for idx, row in enumerate(data):\n",
        "            # Skip the header row\n",
        "            if idx == 0:\n",
        "                continue\n",
        "\n",
        "            columns = row.strip().split('|')\n",
        "\n",
        "            if len(columns) != 11:\n",
        "                print(f\"Skipping row {idx + 1} due to incorrect data format.\")\n",
        "                continue\n",
        "\n",
        "            patient_number, sex, age, breath, o2_sat, heart, systolic_bp, temp, alertness, inspired, status = columns\n",
        "\n",
        "            # Convert numerical columns to appropriate data types\n",
        "            age = int(age)\n",
        "            breath = int(breath)\n",
        "            o2_sat = float(o2_sat)\n",
        "            heart = int(heart)\n",
        "            systolic_bp = int(systolic_bp)\n",
        "            temp = float(temp)\n",
        "\n",
        "            risk = priest(sex, age, breath, o2_sat, heart, systolic_bp, temp, alertness, inspired, status)\n",
        "\n",
        "            hospital = find_hospital(age, sex.lower(), risk)\n",
        "            address = get_address(hospital) if hospital else None\n",
        "\n",
        "            patient_info = {\n",
        "                \"sex\": sex,\n",
        "                \"age\": age,\n",
        "                \"breath\": breath,\n",
        "                \"o2_sat\": o2_sat,\n",
        "                \"heart\": heart,\n",
        "                \"systolic_bp\": systolic_bp,\n",
        "                \"temp\": temp,\n",
        "                \"alertness\": alertness,\n",
        "                \"inspired\": inspired,\n",
        "                \"status\": status,\n",
        "                \"hospital\": hospital,\n",
        "                \"address\": address\n",
        "            }\n",
        "            processed_data[patient_number] = patient_info\n",
        "\n",
        "        return processed_data\n",
        "    else:\n",
        "        return None\n",
        "\n",
        "file_location = \"https://drive.google.com/uc?export=download&id=1fLxJN9YGUqmqExrilxSS8furwUER5HHh\"\n",
        "processed_data = process_people(file_location)\n",
        "print(processed_data)"
      ]
    },
    {
      "cell_type": "markdown",
      "metadata": {
        "id": "6dNFNIr-CUnW"
      },
      "source": [
        "## Part 5: Checking your final results\n",
        "\n",
        "The final step is to check your results.  You should be able to compare your results to the output in `people_results.json` at the link below.  Write some code to check your results.  This does not need to be a function.\n",
        "\n",
        "`https://drive.google.com/uc?export=download&id=1gx1SSC20mO5XL6uYD0mdcM_cL91fcIW5`\n"
      ]
    },
    {
      "cell_type": "code",
      "execution_count": 98,
      "metadata": {
        "id": "CHgEZlATCUnW",
        "outputId": "11ebfcd8-47f2-42b4-d86c-7d8f28db966b",
        "colab": {
          "base_uri": "https://localhost:8080/",
          "height": 263
        }
      },
      "outputs": [
        {
          "output_type": "stream",
          "name": "stdout",
          "text": [
            "Skipping row 101 due to incorrect data format.\n"
          ]
        },
        {
          "output_type": "error",
          "ename": "AttributeError",
          "evalue": "ignored",
          "traceback": [
            "\u001b[0;31m---------------------------------------------------------------------------\u001b[0m",
            "\u001b[0;31mAttributeError\u001b[0m                            Traceback (most recent call last)",
            "\u001b[0;32m<ipython-input-98-9cc86a1fead9>\u001b[0m in \u001b[0;36m<cell line: 14>\u001b[0;34m()\u001b[0m\n\u001b[1;32m     26\u001b[0m             \u001b[0;32mand\u001b[0m \u001b[0mexpected_info\u001b[0m\u001b[0;34m[\u001b[0m\u001b[0;36m8\u001b[0m\u001b[0;34m]\u001b[0m\u001b[0;34m.\u001b[0m\u001b[0mlower\u001b[0m\u001b[0;34m(\u001b[0m\u001b[0;34m)\u001b[0m \u001b[0;34m==\u001b[0m \u001b[0mprocessed_info\u001b[0m\u001b[0;34m[\u001b[0m\u001b[0;34m\"inspired\"\u001b[0m\u001b[0;34m]\u001b[0m\u001b[0;34m.\u001b[0m\u001b[0mlower\u001b[0m\u001b[0;34m(\u001b[0m\u001b[0;34m)\u001b[0m\u001b[0;34m\u001b[0m\u001b[0;34m\u001b[0m\u001b[0m\n\u001b[1;32m     27\u001b[0m             \u001b[0;32mand\u001b[0m \u001b[0mexpected_info\u001b[0m\u001b[0;34m[\u001b[0m\u001b[0;36m9\u001b[0m\u001b[0;34m]\u001b[0m\u001b[0;34m.\u001b[0m\u001b[0mlower\u001b[0m\u001b[0;34m(\u001b[0m\u001b[0;34m)\u001b[0m \u001b[0;34m==\u001b[0m \u001b[0mprocessed_info\u001b[0m\u001b[0;34m[\u001b[0m\u001b[0;34m\"status\"\u001b[0m\u001b[0;34m]\u001b[0m\u001b[0;34m.\u001b[0m\u001b[0mlower\u001b[0m\u001b[0;34m(\u001b[0m\u001b[0;34m)\u001b[0m\u001b[0;34m\u001b[0m\u001b[0;34m\u001b[0m\u001b[0m\n\u001b[0;32m---> 28\u001b[0;31m             \u001b[0;32mand\u001b[0m \u001b[0mexpected_info\u001b[0m\u001b[0;34m[\u001b[0m\u001b[0;36m11\u001b[0m\u001b[0;34m]\u001b[0m\u001b[0;34m.\u001b[0m\u001b[0mlower\u001b[0m\u001b[0;34m(\u001b[0m\u001b[0;34m)\u001b[0m \u001b[0;34m==\u001b[0m \u001b[0mprocessed_info\u001b[0m\u001b[0;34m[\u001b[0m\u001b[0;34m\"hospital\"\u001b[0m\u001b[0;34m]\u001b[0m\u001b[0;34m.\u001b[0m\u001b[0mlower\u001b[0m\u001b[0;34m(\u001b[0m\u001b[0;34m)\u001b[0m\u001b[0;34m\u001b[0m\u001b[0;34m\u001b[0m\u001b[0m\n\u001b[0m\u001b[1;32m     29\u001b[0m             \u001b[0;32mand\u001b[0m \u001b[0mexpected_info\u001b[0m\u001b[0;34m[\u001b[0m\u001b[0;36m12\u001b[0m\u001b[0;34m]\u001b[0m\u001b[0;34m.\u001b[0m\u001b[0mlower\u001b[0m\u001b[0;34m(\u001b[0m\u001b[0;34m)\u001b[0m \u001b[0;34m==\u001b[0m \u001b[0mprocessed_info\u001b[0m\u001b[0;34m[\u001b[0m\u001b[0;34m\"address\"\u001b[0m\u001b[0;34m]\u001b[0m\u001b[0;34m.\u001b[0m\u001b[0mlower\u001b[0m\u001b[0;34m(\u001b[0m\u001b[0;34m)\u001b[0m\u001b[0;34m\u001b[0m\u001b[0;34m\u001b[0m\u001b[0m\n\u001b[1;32m     30\u001b[0m         ):\n",
            "\u001b[0;31mAttributeError\u001b[0m: 'NoneType' object has no attribute 'lower'"
          ]
        }
      ],
      "source": [
        "file_location = \"https://drive.google.com/uc?export=download&id=1fLxJN9YGUqmqExrilxSS8furwUER5HHh\"\n",
        "\n",
        "expected_results_url = \"https://drive.google.com/uc?export=download&id=1gx1SSC20mO5XL6uYD0mdcM_cL91fcIW5\"\n",
        "\n",
        "response = requests.get(expected_results_url)\n",
        "if response.status_code == 200:\n",
        "    expected_results = response.json()\n",
        "else:\n",
        "    print(\"Failed to download expected results.\")\n",
        "    expected_results = {}\n",
        "\n",
        "processed_data = process_people(file_location)\n",
        "\n",
        "for patient_number, expected_info in expected_results.items():\n",
        "    if patient_number in processed_data:\n",
        "        processed_info = processed_data[patient_number]\n",
        "        if (\n",
        "            expected_info[0].lower() == processed_info[\"sex\"].lower()\n",
        "            and expected_info[1] == processed_info[\"age\"]\n",
        "            and expected_info[2] == processed_info[\"breath\"]\n",
        "            and expected_info[3] == processed_info[\"o2_sat\"]\n",
        "            and expected_info[4] == processed_info[\"heart\"]\n",
        "            and expected_info[5] == processed_info[\"systolic_bp\"]\n",
        "            and expected_info[6] == processed_info[\"temp\"]\n",
        "            and expected_info[7].lower() == processed_info[\"alertness\"].lower()\n",
        "            and expected_info[8].lower() == processed_info[\"inspired\"].lower()\n",
        "            and expected_info[9].lower() == processed_info[\"status\"].lower()\n",
        "            and expected_info[11].lower() == processed_info[\"hospital\"].lower()\n",
        "            and expected_info[12].lower() == processed_info[\"address\"].lower()\n",
        "        ):\n",
        "            print(f\"Patient {patient_number}: Data matches the expected results.\")\n",
        "        else:\n",
        "            print(f\"Patient {patient_number}: Data does not match the expected results.\")\n",
        "    else:\n",
        "        print(f\"Patient {patient_number} not found in processed data.\")"
      ]
    },
    {
      "cell_type": "markdown",
      "metadata": {
        "id": "237x8Z75CUnW"
      },
      "source": [
        "---\n",
        "\n",
        "## Check your work above\n",
        "\n",
        "If you didn't get them all correct, take a few minutes to think through those that aren't correct.\n",
        "\n",
        "\n",
        "## Submitting Your Work\n",
        "\n",
        "Submit your work as usual into a folder named `midterm`"
      ]
    },
    {
      "cell_type": "markdown",
      "metadata": {
        "id": "16hc1xkXCUnW"
      },
      "source": [
        "---"
      ]
    }
  ],
  "metadata": {
    "kernelspec": {
      "display_name": "Python 3",
      "language": "python",
      "name": "python3"
    },
    "language_info": {
      "codemirror_mode": {
        "name": "ipython",
        "version": 3
      },
      "file_extension": ".py",
      "mimetype": "text/x-python",
      "name": "python",
      "nbconvert_exporter": "python",
      "pygments_lexer": "ipython3",
      "version": "3.9.16"
    },
    "colab": {
      "provenance": []
    }
  },
  "nbformat": 4,
  "nbformat_minor": 0
}