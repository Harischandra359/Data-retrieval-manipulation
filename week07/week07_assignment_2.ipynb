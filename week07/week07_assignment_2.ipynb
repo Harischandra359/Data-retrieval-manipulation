{
  "cells": [
    {
      "cell_type": "markdown",
      "metadata": {
        "id": "view-in-github",
        "colab_type": "text"
      },
      "source": [
        "<a href=\"https://colab.research.google.com/github/Harischandra359/hds5210-2023/blob/main/week07/week07_assignment_2.ipynb\" target=\"_parent\"><img src=\"https://colab.research.google.com/assets/colab-badge.svg\" alt=\"Open In Colab\"/></a>"
      ]
    },
    {
      "cell_type": "markdown",
      "metadata": {
        "id": "tYPbASQHio9l"
      },
      "source": [
        "# Week 7 Assignment\n",
        "\n",
        "We've been working with different types of data structures in Python (dictionary, list, etc), how those are represented in JSON documents, and how to write code to access specific data elements. In this week's assignment, you will need to create your own JSON document to store information about yourself and the grades you've received from week 1 to week 4 and the week 6 quiz.  That is, everything you should have received a grade for.  Then you'll need to show me you know how to navigate the JSON in that file.\n",
        "\n",
        "Different from what we've done in the past, you do not have to write any functions or include any docstrings.  Just create some JSON and write some code.\n",
        "\n",
        "---"
      ]
    },
    {
      "cell_type": "markdown",
      "metadata": {
        "id": "NkKNfjjyio9p"
      },
      "source": [
        "## 7.1 Create a JSON string\n",
        "\n",
        "Create a JSON string that contains your name, email, year you were born, all of the grades you've received back so far, and a comment about what you thought was most challenging on each of those assignments.  This can be any structure you choose, but make sure it uses a dictionary and a list, and has at least two levels of hierarchy.  That is, it can't just be one big long list."
      ]
    },
    {
      "cell_type": "markdown",
      "metadata": {
        "id": "-l5GnwyBio9q"
      },
      "source": [
        "First, explain how your data structure is going to look..."
      ]
    },
    {
      "cell_type": "markdown",
      "metadata": {
        "id": "zj8Vom3Iio9q"
      },
      "source": [
        "The below dictionary data structure contains name, email, year_of_birth, grades keys with there respective values and grades contains assignment keys with there values as the explanation of the difficulty level of the assignent.\n",
        "{\n",
        "    \"name\": \"Your Name\",\n",
        "    \"email\": \"your@email.com\",\n",
        "    \"year_of_birth\": 2000,\n",
        "    \"grades\": {\n",
        "        \"Assignment1\": [95, \"The most challenging part was understanding the requirements\"],\n",
        "        \"Assignment2\": [89, \"Struggled with the implementation, needed more research\"],\n",
        "        \"Assignment3\": [92, \"Debugging errors was time-consuming\"],\n",
        "        \"Assignment4\": [88, \"Had difficulty with the complex logic involved\"],\n",
        "        \"Assignment5\": [94, \"Challenged by optimizing code efficiency\"]\n",
        "    }\n",
        "}\n"
      ]
    },
    {
      "cell_type": "markdown",
      "metadata": {
        "id": "t3AKUbfvio9r"
      },
      "source": [
        "Then put the actual JSON you've created inside the multiline string below..."
      ]
    },
    {
      "cell_type": "code",
      "execution_count": 7,
      "metadata": {
        "id": "W_tj-ddEio9r"
      },
      "outputs": [],
      "source": [
        "hds5210 = \"\"\"\n",
        "{\n",
        "    \"name\": \"Haris Chandra Naik Gugulothu\",\n",
        "    \"email\": \"harischandranaik.gugulothu@slu.edu\",\n",
        "    \"year_of_birth\": 1999,\n",
        "    \"grades\": {\n",
        "        \"Week 1\": [10, \"Getting familiar with Google colab and Github\"],\n",
        "        \"Week 2\": [9, \"Getting familar with creating and accessing functions\"],\n",
        "        \"Week 3\": [8, \"Using conditional statements in functions\"],\n",
        "        \"Week 4\": [10, \"Traversing through dictionary\"],\n",
        "        \"Week 6\": [15, \"Able to write meaningful functions that use dict and lists within 15 minutes\"]\n",
        "    }\n",
        "}\n",
        "\"\"\""
      ]
    },
    {
      "cell_type": "markdown",
      "metadata": {
        "id": "BSvDmN2Hio9t"
      },
      "source": [
        "## 7.2 Do something with your JSON\n",
        "\n",
        "Now use Python code to do something with the Json above.  Turn it into English text, but make sure that you use at least one loop to access some dict or list content of your JSON.  Below, I've provided some basic code to read in the string above as JSON and return a Python object.  Your job is to work with that data structure and print out the important information like your name, email, and how you did on each assignment."
      ]
    },
    {
      "cell_type": "code",
      "execution_count": 8,
      "metadata": {
        "id": "Ev8ZVVW0io9t",
        "outputId": "472ba059-e6b4-4d4d-ecf6-d2d6852576a4",
        "colab": {
          "base_uri": "https://localhost:8080/"
        }
      },
      "outputs": [
        {
          "output_type": "stream",
          "name": "stdout",
          "text": [
            "Name: Haris Chandra Naik Gugulothu\n",
            "Email: harischandranaik.gugulothu@slu.edu\n",
            "Year of Birth: 1999\n",
            "Grades:\n",
            "- Week 1: Scored 10. Getting familiar with Google colab and Github\n",
            "- Week 2: Scored 9. Getting familar with creating and accessing functions\n",
            "- Week 3: Scored 8. Using conditional statements in functions\n",
            "- Week 4: Scored 10. Traversing through dictionary\n",
            "- Week 6: Scored 15. Able to write meaningful functions that use dict and lists within 15 minutes\n"
          ]
        }
      ],
      "source": [
        "import json\n",
        "\n",
        "info = json.loads(hds5210)\n",
        "\n",
        "# Extracting and printing important information\n",
        "print(f\"Name: {info['name']}\")\n",
        "print(f\"Email: {info['email']}\")\n",
        "print(f\"Year of Birth: {info['year_of_birth']}\")\n",
        "\n",
        "print(\"Grades:\")\n",
        "for assignment, details in info[\"grades\"].items():\n",
        "    grade, comment = details\n",
        "    print(f\"- {assignment}: Scored {grade}. {comment}\")"
      ]
    },
    {
      "cell_type": "markdown",
      "metadata": {
        "id": "S8_gUNedio9u"
      },
      "source": [
        "## 7.3 Reflect\n",
        "\n",
        "Write a paragraph on any reflections you have. Was this hard? Easy?  What parts were most challenging or easiest? What did you like or dislike about the assignment?  Share whatever important thoughts you have abou this assignment."
      ]
    },
    {
      "cell_type": "markdown",
      "metadata": {
        "id": "zHqKNfoIio9u"
      },
      "source": [
        "I won't say this assignment is hard but I do feel it is bit challenging as I am new in using dictionary data structure, I faced bit difficulty in traversing through keys and values."
      ]
    },
    {
      "cell_type": "markdown",
      "metadata": {
        "id": "B84i6iOjio9v"
      },
      "source": [
        "---\n",
        "\n",
        "# Example\n",
        "\n",
        "Below is an example of something similar, but this uses information my and my friend's kids instead of grades."
      ]
    },
    {
      "cell_type": "code",
      "execution_count": 9,
      "metadata": {
        "id": "6aYrY3sPio9v",
        "outputId": "627118e6-f8e7-497c-c8d7-e8aa0159405a",
        "colab": {
          "base_uri": "https://localhost:8080/"
        }
      },
      "outputs": [
        {
          "output_type": "stream",
          "name": "stdout",
          "text": [
            "Hi, my name is Paul. I've got 3 kids. Their names are Ellie, Ada, Teddy.\n",
            "My friend, Anny has 1 kids. That's fewer than me. Their names are 1\n"
          ]
        }
      ],
      "source": [
        "hds5210 = \"\"\"\n",
        "{\n",
        "    \"me\": {\n",
        "        \"name\": \"Paul\",\n",
        "        \"kids\": [\"Ellie\", \"Ada\", \"Teddy\"]\n",
        "    },\n",
        "    \"friend\": {\n",
        "        \"name\": \"Anny\",\n",
        "        \"kids\": [\"Abby\"]\n",
        "    }\n",
        "}\n",
        "\"\"\"\n",
        "\n",
        "import json\n",
        "\n",
        "info = json.loads(hds5210)\n",
        "\n",
        "me = info[\"me\"][\"name\"]\n",
        "my_kids_count = len(info[\"me\"][\"kids\"])\n",
        "kids_list = \", \".join(info[\"me\"][\"kids\"])\n",
        "friend = info[\"friend\"][\"name\"]\n",
        "friends_kid_count = len(info[\"friend\"][\"kids\"])\n",
        "friend_kids = \", \".join(info[\"friend\"][\"kids\"])\n",
        "compare = \"more\" if friends_kid_count > my_kids_count else \"fewer\"\n",
        "\n",
        "print(f\"Hi, my name is {me}. I've got {my_kids_count} kids. Their names are {kids_list}.\")\n",
        "print(f\"My friend, {friend} has {friends_kid_count} kids. That's {compare} than me. Their names are {friends_kid_count}\")"
      ]
    }
  ],
  "metadata": {
    "kernelspec": {
      "display_name": "Python 3",
      "language": "python",
      "name": "python3"
    },
    "language_info": {
      "codemirror_mode": {
        "name": "ipython",
        "version": 3
      },
      "file_extension": ".py",
      "mimetype": "text/x-python",
      "name": "python",
      "nbconvert_exporter": "python",
      "pygments_lexer": "ipython3",
      "version": "3.9.16"
    },
    "colab": {
      "provenance": [],
      "include_colab_link": true
    }
  },
  "nbformat": 4,
  "nbformat_minor": 0
}